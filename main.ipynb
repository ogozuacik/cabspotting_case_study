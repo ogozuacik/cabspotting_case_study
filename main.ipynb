{
 "cells": [
  {
   "cell_type": "code",
   "execution_count": 1,
   "metadata": {},
   "outputs": [],
   "source": [
    "#@ogozuacik\n",
    "\n",
    "from datetime import timedelta\n",
    "from gc import collect\n",
    "from haversine import haversine\n",
    "import lightgbm as lgb\n",
    "import pandas as pd\n",
    "import optuna\n",
    "import os\n",
    "import shap\n",
    "from sklearn.metrics import mean_absolute_error, r2_score\n",
    "from sklearn.model_selection import TimeSeriesSplit #, KFold\n",
    "from skmob import TrajDataFrame\n",
    "from skmob.preprocessing import clustering\n",
    "from tqdm import tqdm_notebook"
   ]
  },
  {
   "cell_type": "code",
   "execution_count": 2,
   "metadata": {},
   "outputs": [],
   "source": [
    "A_DAY_IN_SECONDS = 60 * 60 * 24\n",
    "CO2_PER_MILE = 404\n",
    "NUM_BOOSTING_ROUNDS = 100\n",
    "NUM_TRIALS = 25  # higher values should do better\n",
    "KM_TO_MILES = 0.62137"
   ]
  },
  {
   "cell_type": "code",
   "execution_count": 3,
   "metadata": {},
   "outputs": [],
   "source": [
    "# ref: https://stackoverflow.com/questions/579310/formatting-long-numbers-as-strings\n",
    "def human_readable_format(value):\n",
    "    \"\"\"Converts the value to human readable format\"\"\"\n",
    "    value = float(\"{:.3g}\".format(value))\n",
    "    magnitude = 0\n",
    "    while abs(value) >= 1000:\n",
    "        magnitude += 1\n",
    "        value /= 1000.0\n",
    "    return \"{}{}\".format(\"{:f}\".format(value).rstrip(\"0\").rstrip(\".\"), [\"\", \"K\", \"M\", \"B\", \"T\"][magnitude])"
   ]
  },
  {
   "cell_type": "markdown",
   "metadata": {},
   "source": [
    "## Importing data and pre-processing"
   ]
  },
  {
   "cell_type": "code",
   "execution_count": 4,
   "metadata": {},
   "outputs": [],
   "source": [
    "def pre_process_change_points_and_trip_ids(df, trip_id):\n",
    "    \"\"\"Pre-processes change points and assigns trip ids\"\"\"\n",
    "    prev_occupancy = 1\n",
    "    is_change_point = []\n",
    "    trip_ids = []\n",
    "    for occupancy in df[\"occupancy\"]:\n",
    "        if occupancy != prev_occupancy:\n",
    "            is_change_point.append(True)\n",
    "            trip_id += 1\n",
    "        else:\n",
    "            is_change_point.append(False)\n",
    "        trip_ids.append(trip_id)\n",
    "        prev_occupancy = occupancy\n",
    "    is_change_point[-1] = True if occupancy == 1 else False\n",
    "    df[\"is_change_point\"] = is_change_point\n",
    "    df[\"tid\"] = trip_ids\n",
    "    return df, trip_id"
   ]
  },
  {
   "cell_type": "code",
   "execution_count": 5,
   "metadata": {},
   "outputs": [],
   "source": [
    "# reading data and combining them in one dataframe\n",
    "dfs = []\n",
    "# starting from 0 to ...\n",
    "trip_id = 0\n",
    "for root, _, files in os.walk(\"cabspottingdata\"):\n",
    "    for file_ in files:\n",
    "        if not file_.endswith(\".txt\"):\n",
    "            continue\n",
    "        df = pd.read_csv(\n",
    "            os.path.join(root, file_), sep=\" \", header=None, names=[\"lat\", \"lng\", \"occupancy\", \"datetime\"])\n",
    "        df[\"datetime\"] = pd.to_datetime(df[\"datetime\"], unit=\"s\") + timedelta(minutes=-7*60)\n",
    "        taxi_id = file_.split(\".txt\")[0]\n",
    "        # user id\n",
    "        df[\"uid\"] = taxi_id\n",
    "        df, trip_id = pre_process_change_points_and_trip_ids(df, trip_id)\n",
    "        df[\"prev_lat\"] = df[\"lat\"].shift()\n",
    "        df[\"prev_lng\"] = df[\"lng\"].shift()\n",
    "        df[\"prev_datetime\"] = df[\"datetime\"].shift()\n",
    "        trip_id += 1\n",
    "        dfs.append(df)"
   ]
  },
  {
   "cell_type": "code",
   "execution_count": 6,
   "metadata": {},
   "outputs": [
    {
     "data": {
      "text/plain": [
       "0"
      ]
     },
     "execution_count": 6,
     "metadata": {},
     "output_type": "execute_result"
    }
   ],
   "source": [
    "# combining data from different taxis together\n",
    "combined_df = pd.concat(dfs).reset_index(drop=True)\n",
    "del dfs\n",
    "collect()"
   ]
  },
  {
   "cell_type": "code",
   "execution_count": 7,
   "metadata": {},
   "outputs": [
    {
     "data": {
      "text/plain": [
       "'11.2M'"
      ]
     },
     "execution_count": 7,
     "metadata": {},
     "output_type": "execute_result"
    }
   ],
   "source": [
    "# total number of rows\n",
    "num_rows = len(combined_df)\n",
    "human_readable_format(num_rows)"
   ]
  },
  {
   "cell_type": "code",
   "execution_count": 8,
   "metadata": {},
   "outputs": [
    {
     "data": {
      "text/html": [
       "<div>\n",
       "<style scoped>\n",
       "    .dataframe tbody tr th:only-of-type {\n",
       "        vertical-align: middle;\n",
       "    }\n",
       "\n",
       "    .dataframe tbody tr th {\n",
       "        vertical-align: top;\n",
       "    }\n",
       "\n",
       "    .dataframe thead th {\n",
       "        text-align: right;\n",
       "    }\n",
       "</style>\n",
       "<table border=\"1\" class=\"dataframe\">\n",
       "  <thead>\n",
       "    <tr style=\"text-align: right;\">\n",
       "      <th></th>\n",
       "      <th>lat</th>\n",
       "      <th>lng</th>\n",
       "      <th>occupancy</th>\n",
       "      <th>datetime</th>\n",
       "      <th>uid</th>\n",
       "      <th>is_change_point</th>\n",
       "      <th>tid</th>\n",
       "      <th>prev_lat</th>\n",
       "      <th>prev_lng</th>\n",
       "      <th>prev_datetime</th>\n",
       "    </tr>\n",
       "  </thead>\n",
       "  <tbody>\n",
       "    <tr>\n",
       "      <th>0</th>\n",
       "      <td>37.75153</td>\n",
       "      <td>-122.39447</td>\n",
       "      <td>0</td>\n",
       "      <td>2008-05-17 07:12:10</td>\n",
       "      <td>new_abboip</td>\n",
       "      <td>True</td>\n",
       "      <td>1</td>\n",
       "      <td>NaN</td>\n",
       "      <td>NaN</td>\n",
       "      <td>NaT</td>\n",
       "    </tr>\n",
       "    <tr>\n",
       "      <th>1</th>\n",
       "      <td>37.75149</td>\n",
       "      <td>-122.39447</td>\n",
       "      <td>0</td>\n",
       "      <td>2008-05-17 07:13:34</td>\n",
       "      <td>new_abboip</td>\n",
       "      <td>False</td>\n",
       "      <td>1</td>\n",
       "      <td>37.75153</td>\n",
       "      <td>-122.39447</td>\n",
       "      <td>2008-05-17 07:12:10</td>\n",
       "    </tr>\n",
       "    <tr>\n",
       "      <th>2</th>\n",
       "      <td>37.75149</td>\n",
       "      <td>-122.39447</td>\n",
       "      <td>0</td>\n",
       "      <td>2008-05-17 07:14:34</td>\n",
       "      <td>new_abboip</td>\n",
       "      <td>False</td>\n",
       "      <td>1</td>\n",
       "      <td>37.75149</td>\n",
       "      <td>-122.39447</td>\n",
       "      <td>2008-05-17 07:13:34</td>\n",
       "    </tr>\n",
       "    <tr>\n",
       "      <th>3</th>\n",
       "      <td>37.75149</td>\n",
       "      <td>-122.39446</td>\n",
       "      <td>0</td>\n",
       "      <td>2008-05-17 07:15:35</td>\n",
       "      <td>new_abboip</td>\n",
       "      <td>False</td>\n",
       "      <td>1</td>\n",
       "      <td>37.75149</td>\n",
       "      <td>-122.39447</td>\n",
       "      <td>2008-05-17 07:14:34</td>\n",
       "    </tr>\n",
       "    <tr>\n",
       "      <th>4</th>\n",
       "      <td>37.75144</td>\n",
       "      <td>-122.39449</td>\n",
       "      <td>0</td>\n",
       "      <td>2008-05-17 07:41:43</td>\n",
       "      <td>new_abboip</td>\n",
       "      <td>False</td>\n",
       "      <td>1</td>\n",
       "      <td>37.75149</td>\n",
       "      <td>-122.39446</td>\n",
       "      <td>2008-05-17 07:15:35</td>\n",
       "    </tr>\n",
       "    <tr>\n",
       "      <th>...</th>\n",
       "      <td>...</td>\n",
       "      <td>...</td>\n",
       "      <td>...</td>\n",
       "      <td>...</td>\n",
       "      <td>...</td>\n",
       "      <td>...</td>\n",
       "      <td>...</td>\n",
       "      <td>...</td>\n",
       "      <td>...</td>\n",
       "      <td>...</td>\n",
       "    </tr>\n",
       "    <tr>\n",
       "      <th>11220053</th>\n",
       "      <td>37.74654</td>\n",
       "      <td>-122.44338</td>\n",
       "      <td>1</td>\n",
       "      <td>2008-06-09 11:18:11</td>\n",
       "      <td>new_uvreoipy</td>\n",
       "      <td>False</td>\n",
       "      <td>928700</td>\n",
       "      <td>37.74501</td>\n",
       "      <td>-122.44424</td>\n",
       "      <td>2008-06-09 11:17:13</td>\n",
       "    </tr>\n",
       "    <tr>\n",
       "      <th>11220054</th>\n",
       "      <td>37.75140</td>\n",
       "      <td>-122.44296</td>\n",
       "      <td>1</td>\n",
       "      <td>2008-06-09 11:19:08</td>\n",
       "      <td>new_uvreoipy</td>\n",
       "      <td>False</td>\n",
       "      <td>928700</td>\n",
       "      <td>37.74654</td>\n",
       "      <td>-122.44338</td>\n",
       "      <td>2008-06-09 11:18:11</td>\n",
       "    </tr>\n",
       "    <tr>\n",
       "      <th>11220055</th>\n",
       "      <td>37.75686</td>\n",
       "      <td>-122.44239</td>\n",
       "      <td>1</td>\n",
       "      <td>2008-06-09 11:20:12</td>\n",
       "      <td>new_uvreoipy</td>\n",
       "      <td>False</td>\n",
       "      <td>928700</td>\n",
       "      <td>37.75140</td>\n",
       "      <td>-122.44296</td>\n",
       "      <td>2008-06-09 11:19:08</td>\n",
       "    </tr>\n",
       "    <tr>\n",
       "      <th>11220056</th>\n",
       "      <td>37.76047</td>\n",
       "      <td>-122.44215</td>\n",
       "      <td>1</td>\n",
       "      <td>2008-06-09 11:21:08</td>\n",
       "      <td>new_uvreoipy</td>\n",
       "      <td>False</td>\n",
       "      <td>928700</td>\n",
       "      <td>37.75686</td>\n",
       "      <td>-122.44239</td>\n",
       "      <td>2008-06-09 11:20:12</td>\n",
       "    </tr>\n",
       "    <tr>\n",
       "      <th>11220057</th>\n",
       "      <td>37.76075</td>\n",
       "      <td>-122.43687</td>\n",
       "      <td>1</td>\n",
       "      <td>2008-06-09 11:22:09</td>\n",
       "      <td>new_uvreoipy</td>\n",
       "      <td>True</td>\n",
       "      <td>928700</td>\n",
       "      <td>37.76047</td>\n",
       "      <td>-122.44215</td>\n",
       "      <td>2008-06-09 11:21:08</td>\n",
       "    </tr>\n",
       "  </tbody>\n",
       "</table>\n",
       "<p>11220058 rows × 10 columns</p>\n",
       "</div>"
      ],
      "text/plain": [
       "               lat        lng  occupancy            datetime           uid  \\\n",
       "0         37.75153 -122.39447          0 2008-05-17 07:12:10    new_abboip   \n",
       "1         37.75149 -122.39447          0 2008-05-17 07:13:34    new_abboip   \n",
       "2         37.75149 -122.39447          0 2008-05-17 07:14:34    new_abboip   \n",
       "3         37.75149 -122.39446          0 2008-05-17 07:15:35    new_abboip   \n",
       "4         37.75144 -122.39449          0 2008-05-17 07:41:43    new_abboip   \n",
       "...            ...        ...        ...                 ...           ...   \n",
       "11220053  37.74654 -122.44338          1 2008-06-09 11:18:11  new_uvreoipy   \n",
       "11220054  37.75140 -122.44296          1 2008-06-09 11:19:08  new_uvreoipy   \n",
       "11220055  37.75686 -122.44239          1 2008-06-09 11:20:12  new_uvreoipy   \n",
       "11220056  37.76047 -122.44215          1 2008-06-09 11:21:08  new_uvreoipy   \n",
       "11220057  37.76075 -122.43687          1 2008-06-09 11:22:09  new_uvreoipy   \n",
       "\n",
       "          is_change_point     tid  prev_lat   prev_lng       prev_datetime  \n",
       "0                    True       1       NaN        NaN                 NaT  \n",
       "1                   False       1  37.75153 -122.39447 2008-05-17 07:12:10  \n",
       "2                   False       1  37.75149 -122.39447 2008-05-17 07:13:34  \n",
       "3                   False       1  37.75149 -122.39447 2008-05-17 07:14:34  \n",
       "4                   False       1  37.75149 -122.39446 2008-05-17 07:15:35  \n",
       "...                   ...     ...       ...        ...                 ...  \n",
       "11220053            False  928700  37.74501 -122.44424 2008-06-09 11:17:13  \n",
       "11220054            False  928700  37.74654 -122.44338 2008-06-09 11:18:11  \n",
       "11220055            False  928700  37.75140 -122.44296 2008-06-09 11:19:08  \n",
       "11220056            False  928700  37.75686 -122.44239 2008-06-09 11:20:12  \n",
       "11220057             True  928700  37.76047 -122.44215 2008-06-09 11:21:08  \n",
       "\n",
       "[11220058 rows x 10 columns]"
      ]
     },
     "execution_count": 8,
     "metadata": {},
     "output_type": "execute_result"
    }
   ],
   "source": [
    "combined_df"
   ]
  },
  {
   "cell_type": "code",
   "execution_count": 9,
   "metadata": {},
   "outputs": [],
   "source": [
    "# assuming dist covered is continuous data\n",
    "combined_df[\"dist_covered\"] = combined_df.apply(\n",
    "    lambda x: haversine((x[\"prev_lat\"], x[\"prev_lng\"]), (x[\"lat\"], x[\"lng\"])), axis=1)\n",
    "combined_df[\"km_per_hour\"] = combined_df[\"dist_covered\"] / \\\n",
    "    ((combined_df[\"datetime\"] - combined_df[\"prev_datetime\"]).apply(lambda x: x.total_seconds()) / 3600)"
   ]
  },
  {
   "cell_type": "code",
   "execution_count": 10,
   "metadata": {},
   "outputs": [],
   "source": [
    "# removal of data with speed more than 300km/h\n",
    "combined_df = combined_df[(combined_df[\"km_per_hour\"] < 300) | (combined_df[\"km_per_hour\"].isnull())]"
   ]
  },
  {
   "cell_type": "code",
   "execution_count": 11,
   "metadata": {},
   "outputs": [
    {
     "data": {
      "text/plain": [
       "'57.3K'"
      ]
     },
     "execution_count": 11,
     "metadata": {},
     "output_type": "execute_result"
    }
   ],
   "source": [
    "# number of removed rows\n",
    "human_readable_format(num_rows - len(combined_df))"
   ]
  },
  {
   "cell_type": "markdown",
   "metadata": {},
   "source": [
    "## Basic EDA\n",
    "\n",
    "Analysis done for samples where occupancy = 1"
   ]
  },
  {
   "cell_type": "code",
   "execution_count": 12,
   "metadata": {},
   "outputs": [
    {
     "data": {
      "text/html": [
       "<div>\n",
       "<style scoped>\n",
       "    .dataframe tbody tr th:only-of-type {\n",
       "        vertical-align: middle;\n",
       "    }\n",
       "\n",
       "    .dataframe tbody tr th {\n",
       "        vertical-align: top;\n",
       "    }\n",
       "\n",
       "    .dataframe thead th {\n",
       "        text-align: right;\n",
       "    }\n",
       "</style>\n",
       "<table border=\"1\" class=\"dataframe\">\n",
       "  <thead>\n",
       "    <tr style=\"text-align: right;\">\n",
       "      <th></th>\n",
       "      <th>lat</th>\n",
       "      <th>lng</th>\n",
       "      <th>occupancy</th>\n",
       "      <th>datetime</th>\n",
       "      <th>uid</th>\n",
       "      <th>is_change_point</th>\n",
       "      <th>tid</th>\n",
       "      <th>prev_lat</th>\n",
       "      <th>prev_lng</th>\n",
       "      <th>prev_datetime</th>\n",
       "      <th>dist_covered</th>\n",
       "      <th>km_per_hour</th>\n",
       "    </tr>\n",
       "  </thead>\n",
       "  <tbody>\n",
       "    <tr>\n",
       "      <th>0</th>\n",
       "      <td>37.75153</td>\n",
       "      <td>-122.39447</td>\n",
       "      <td>0</td>\n",
       "      <td>2008-05-17 07:12:10</td>\n",
       "      <td>new_abboip</td>\n",
       "      <td>True</td>\n",
       "      <td>1</td>\n",
       "      <td>NaN</td>\n",
       "      <td>NaN</td>\n",
       "      <td>NaT</td>\n",
       "      <td>NaN</td>\n",
       "      <td>NaN</td>\n",
       "    </tr>\n",
       "    <tr>\n",
       "      <th>1</th>\n",
       "      <td>37.75149</td>\n",
       "      <td>-122.39447</td>\n",
       "      <td>0</td>\n",
       "      <td>2008-05-17 07:13:34</td>\n",
       "      <td>new_abboip</td>\n",
       "      <td>False</td>\n",
       "      <td>1</td>\n",
       "      <td>37.75153</td>\n",
       "      <td>-122.39447</td>\n",
       "      <td>2008-05-17 07:12:10</td>\n",
       "      <td>0.004448</td>\n",
       "      <td>0.190620</td>\n",
       "    </tr>\n",
       "    <tr>\n",
       "      <th>2</th>\n",
       "      <td>37.75149</td>\n",
       "      <td>-122.39447</td>\n",
       "      <td>0</td>\n",
       "      <td>2008-05-17 07:14:34</td>\n",
       "      <td>new_abboip</td>\n",
       "      <td>False</td>\n",
       "      <td>1</td>\n",
       "      <td>37.75149</td>\n",
       "      <td>-122.39447</td>\n",
       "      <td>2008-05-17 07:13:34</td>\n",
       "      <td>0.000000</td>\n",
       "      <td>0.000000</td>\n",
       "    </tr>\n",
       "    <tr>\n",
       "      <th>3</th>\n",
       "      <td>37.75149</td>\n",
       "      <td>-122.39446</td>\n",
       "      <td>0</td>\n",
       "      <td>2008-05-17 07:15:35</td>\n",
       "      <td>new_abboip</td>\n",
       "      <td>False</td>\n",
       "      <td>1</td>\n",
       "      <td>37.75149</td>\n",
       "      <td>-122.39447</td>\n",
       "      <td>2008-05-17 07:14:34</td>\n",
       "      <td>0.000879</td>\n",
       "      <td>0.051887</td>\n",
       "    </tr>\n",
       "    <tr>\n",
       "      <th>4</th>\n",
       "      <td>37.75144</td>\n",
       "      <td>-122.39449</td>\n",
       "      <td>0</td>\n",
       "      <td>2008-05-17 07:41:43</td>\n",
       "      <td>new_abboip</td>\n",
       "      <td>False</td>\n",
       "      <td>1</td>\n",
       "      <td>37.75149</td>\n",
       "      <td>-122.39446</td>\n",
       "      <td>2008-05-17 07:15:35</td>\n",
       "      <td>0.006154</td>\n",
       "      <td>0.014128</td>\n",
       "    </tr>\n",
       "  </tbody>\n",
       "</table>\n",
       "</div>"
      ],
      "text/plain": [
       "        lat        lng  occupancy            datetime         uid  \\\n",
       "0  37.75153 -122.39447          0 2008-05-17 07:12:10  new_abboip   \n",
       "1  37.75149 -122.39447          0 2008-05-17 07:13:34  new_abboip   \n",
       "2  37.75149 -122.39447          0 2008-05-17 07:14:34  new_abboip   \n",
       "3  37.75149 -122.39446          0 2008-05-17 07:15:35  new_abboip   \n",
       "4  37.75144 -122.39449          0 2008-05-17 07:41:43  new_abboip   \n",
       "\n",
       "   is_change_point  tid  prev_lat   prev_lng       prev_datetime  \\\n",
       "0             True    1       NaN        NaN                 NaT   \n",
       "1            False    1  37.75153 -122.39447 2008-05-17 07:12:10   \n",
       "2            False    1  37.75149 -122.39447 2008-05-17 07:13:34   \n",
       "3            False    1  37.75149 -122.39447 2008-05-17 07:14:34   \n",
       "4            False    1  37.75149 -122.39446 2008-05-17 07:15:35   \n",
       "\n",
       "   dist_covered  km_per_hour  \n",
       "0           NaN          NaN  \n",
       "1      0.004448     0.190620  \n",
       "2      0.000000     0.000000  \n",
       "3      0.000879     0.051887  \n",
       "4      0.006154     0.014128  "
      ]
     },
     "execution_count": 12,
     "metadata": {},
     "output_type": "execute_result"
    }
   ],
   "source": [
    "combined_df.head()"
   ]
  },
  {
   "cell_type": "markdown",
   "metadata": {},
   "source": [
    "### Taxi id based analysis of trips"
   ]
  },
  {
   "cell_type": "code",
   "execution_count": 13,
   "metadata": {},
   "outputs": [],
   "source": [
    "def day_range(series):\n",
    "    \"\"\"Returns the day range\"\"\"\n",
    "    diff = series.max() - series.min()\n",
    "    return diff.total_seconds() / A_DAY_IN_SECONDS\n",
    "\n",
    "grouped_df = combined_df[combined_df[\"occupancy\"] == 1].groupby(\"uid\").agg(\n",
    "    number_of_trips=pd.NamedAgg(column=\"tid\", aggfunc=\"nunique\"),\n",
    "    total_dist_covered=pd.NamedAgg(column=\"dist_covered\", aggfunc=\"sum\"),\n",
    "    days_active=pd.NamedAgg(column=\"datetime\", aggfunc=day_range))\n",
    "grouped_df[\"average_trip_distance\"] = grouped_df[\"total_dist_covered\"] / grouped_df[\"number_of_trips\"]\n",
    "grouped_df[\"distance_covered_per_day\"] = grouped_df[\"total_dist_covered\"] / grouped_df[\"days_active\"]"
   ]
  },
  {
   "cell_type": "code",
   "execution_count": 14,
   "metadata": {},
   "outputs": [
    {
     "data": {
      "text/html": [
       "<div>\n",
       "<style scoped>\n",
       "    .dataframe tbody tr th:only-of-type {\n",
       "        vertical-align: middle;\n",
       "    }\n",
       "\n",
       "    .dataframe tbody tr th {\n",
       "        vertical-align: top;\n",
       "    }\n",
       "\n",
       "    .dataframe thead th {\n",
       "        text-align: right;\n",
       "    }\n",
       "</style>\n",
       "<table border=\"1\" class=\"dataframe\">\n",
       "  <thead>\n",
       "    <tr style=\"text-align: right;\">\n",
       "      <th></th>\n",
       "      <th>number_of_trips</th>\n",
       "      <th>total_dist_covered</th>\n",
       "      <th>days_active</th>\n",
       "      <th>average_trip_distance</th>\n",
       "      <th>distance_covered_per_day</th>\n",
       "    </tr>\n",
       "    <tr>\n",
       "      <th>uid</th>\n",
       "      <th></th>\n",
       "      <th></th>\n",
       "      <th></th>\n",
       "      <th></th>\n",
       "      <th></th>\n",
       "    </tr>\n",
       "  </thead>\n",
       "  <tbody>\n",
       "    <tr>\n",
       "      <th>new_abboip</th>\n",
       "      <td>957</td>\n",
       "      <td>4100.611079</td>\n",
       "      <td>23.701910</td>\n",
       "      <td>4.284860</td>\n",
       "      <td>173.007624</td>\n",
       "    </tr>\n",
       "    <tr>\n",
       "      <th>new_abcoij</th>\n",
       "      <td>28</td>\n",
       "      <td>95.550352</td>\n",
       "      <td>16.684109</td>\n",
       "      <td>3.412513</td>\n",
       "      <td>5.727028</td>\n",
       "    </tr>\n",
       "    <tr>\n",
       "      <th>new_abdremlu</th>\n",
       "      <td>881</td>\n",
       "      <td>7656.255412</td>\n",
       "      <td>23.161088</td>\n",
       "      <td>8.690415</td>\n",
       "      <td>330.565448</td>\n",
       "    </tr>\n",
       "    <tr>\n",
       "      <th>new_abgibo</th>\n",
       "      <td>1032</td>\n",
       "      <td>5665.364915</td>\n",
       "      <td>23.962153</td>\n",
       "      <td>5.489695</td>\n",
       "      <td>236.429713</td>\n",
       "    </tr>\n",
       "    <tr>\n",
       "      <th>new_abjoolaw</th>\n",
       "      <td>396</td>\n",
       "      <td>2097.224778</td>\n",
       "      <td>23.200775</td>\n",
       "      <td>5.296022</td>\n",
       "      <td>90.394598</td>\n",
       "    </tr>\n",
       "  </tbody>\n",
       "</table>\n",
       "</div>"
      ],
      "text/plain": [
       "              number_of_trips  total_dist_covered  days_active  \\\n",
       "uid                                                              \n",
       "new_abboip                957         4100.611079    23.701910   \n",
       "new_abcoij                 28           95.550352    16.684109   \n",
       "new_abdremlu              881         7656.255412    23.161088   \n",
       "new_abgibo               1032         5665.364915    23.962153   \n",
       "new_abjoolaw              396         2097.224778    23.200775   \n",
       "\n",
       "              average_trip_distance  distance_covered_per_day  \n",
       "uid                                                            \n",
       "new_abboip                 4.284860                173.007624  \n",
       "new_abcoij                 3.412513                  5.727028  \n",
       "new_abdremlu               8.690415                330.565448  \n",
       "new_abgibo                 5.489695                236.429713  \n",
       "new_abjoolaw               5.296022                 90.394598  "
      ]
     },
     "execution_count": 14,
     "metadata": {},
     "output_type": "execute_result"
    }
   ],
   "source": [
    "grouped_df.head()"
   ]
  },
  {
   "cell_type": "code",
   "execution_count": 15,
   "metadata": {},
   "outputs": [
    {
     "data": {
      "text/plain": [
       "array([[<AxesSubplot:title={'center':'number_of_trips'}>,\n",
       "        <AxesSubplot:title={'center':'total_dist_covered'}>],\n",
       "       [<AxesSubplot:title={'center':'days_active'}>,\n",
       "        <AxesSubplot:title={'center':'average_trip_distance'}>],\n",
       "       [<AxesSubplot:title={'center':'distance_covered_per_day'}>,\n",
       "        <AxesSubplot:>]], dtype=object)"
      ]
     },
     "execution_count": 15,
     "metadata": {},
     "output_type": "execute_result"
    },
    {
     "data": {
      "image/png": "[encoded data removed]",
      "text/plain": [
       "<Figure size 1152x720 with 6 Axes>"
      ]
     },
     "metadata": {
      "needs_background": "light"
     },
     "output_type": "display_data"
    }
   ],
   "source": [
    "grouped_df.hist(bins=25, figsize=(16,10)) "
   ]
  },
  {
   "cell_type": "code",
   "execution_count": 16,
   "metadata": {},
   "outputs": [
    {
     "data": {
      "text/plain": [
       "number_of_trips               931\n",
       "total_dist_covered          4.86K\n",
       "days_active                  23.3\n",
       "average_trip_distance        4.96\n",
       "distance_covered_per_day      213\n",
       "dtype: object"
      ]
     },
     "execution_count": 16,
     "metadata": {},
     "output_type": "execute_result"
    }
   ],
   "source": [
    "# median of the metrics for all taxi ids\n",
    "grouped_df.median().apply(human_readable_format)"
   ]
  },
  {
   "cell_type": "code",
   "execution_count": 17,
   "metadata": {},
   "outputs": [
    {
     "data": {
      "text/plain": [
       "number_of_trips              464K\n",
       "total_dist_covered          2.43M\n",
       "days_active                 11.7K\n",
       "average_trip_distance       2.91K\n",
       "distance_covered_per_day     111K\n",
       "dtype: object"
      ]
     },
     "execution_count": 17,
     "metadata": {},
     "output_type": "execute_result"
    }
   ],
   "source": [
    "# sum of the metrics for all taxi ids\n",
    "grouped_df.sum().apply(human_readable_format)"
   ]
  },
  {
   "cell_type": "markdown",
   "metadata": {},
   "source": [
    "### Temporal analysis of trips"
   ]
  },
  {
   "cell_type": "code",
   "execution_count": 18,
   "metadata": {},
   "outputs": [],
   "source": [
    "grouped_df = combined_df[combined_df[\"occupancy\"] == 1].groupby( \n",
    "    combined_df[\"datetime\"].map(lambda x : x.hour)).agg(\n",
    "        number_of_trips=pd.NamedAgg(column=\"tid\", aggfunc=\"nunique\"),\n",
    "        total_dist_covered=pd.NamedAgg(column=\"dist_covered\", aggfunc=\"sum\"))\n",
    "grouped_df.index.names = [\"hour_of_day\"]"
   ]
  },
  {
   "cell_type": "code",
   "execution_count": 19,
   "metadata": {},
   "outputs": [
    {
     "data": {
      "text/plain": [
       "<AxesSubplot:xlabel='hour_of_day'>"
      ]
     },
     "execution_count": 19,
     "metadata": {},
     "output_type": "execute_result"
    },
    {
     "data": {
      "image/png": "[encoded data removed]",
      "text/plain": [
       "<Figure size 432x288 with 1 Axes>"
      ]
     },
     "metadata": {
      "needs_background": "light"
     },
     "output_type": "display_data"
    }
   ],
   "source": [
    "grouped_df[\"number_of_trips\"].plot(legend=True)"
   ]
  },
  {
   "cell_type": "code",
   "execution_count": 20,
   "metadata": {},
   "outputs": [
    {
     "data": {
      "text/plain": [
       "<AxesSubplot:xlabel='hour_of_day'>"
      ]
     },
     "execution_count": 20,
     "metadata": {},
     "output_type": "execute_result"
    },
    {
     "data": {
      "image/png": "[encoded data removed]",
      "text/plain": [
       "<Figure size 432x288 with 1 Axes>"
      ]
     },
     "metadata": {
      "needs_background": "light"
     },
     "output_type": "display_data"
    }
   ],
   "source": [
    "grouped_df[\"total_dist_covered\"].plot(legend=True)"
   ]
  },
  {
   "cell_type": "code",
   "execution_count": 21,
   "metadata": {},
   "outputs": [
    {
     "data": {
      "text/plain": [
       "('22', '35.1K')"
      ]
     },
     "execution_count": 21,
     "metadata": {},
     "output_type": "execute_result"
    }
   ],
   "source": [
    "# total number of trips peaks at 22\n",
    "human_readable_format(grouped_df.idxmax()[\"number_of_trips\"]), \\\n",
    "    human_readable_format(grouped_df.max()[\"number_of_trips\"])"
   ]
  },
  {
   "cell_type": "code",
   "execution_count": 22,
   "metadata": {},
   "outputs": [
    {
     "data": {
      "text/plain": [
       "('4', '6.58K')"
      ]
     },
     "execution_count": 22,
     "metadata": {},
     "output_type": "execute_result"
    }
   ],
   "source": [
    "# total number of trips troughs at 4\n",
    "human_readable_format(grouped_df.idxmin()[\"number_of_trips\"]), \\\n",
    "    human_readable_format(grouped_df.min()[\"number_of_trips\"])"
   ]
  },
  {
   "cell_type": "code",
   "execution_count": 23,
   "metadata": {},
   "outputs": [
    {
     "data": {
      "text/plain": [
       "('21', '145K')"
      ]
     },
     "execution_count": 23,
     "metadata": {},
     "output_type": "execute_result"
    }
   ],
   "source": [
    "# total dist covered peaks at 21\n",
    "human_readable_format(grouped_df.idxmax()[\"total_dist_covered\"]), \\\n",
    "    human_readable_format(grouped_df.max()[\"total_dist_covered\"])"
   ]
  },
  {
   "cell_type": "code",
   "execution_count": 24,
   "metadata": {},
   "outputs": [
    {
     "data": {
      "text/plain": [
       "('3', '31.2K')"
      ]
     },
     "execution_count": 24,
     "metadata": {},
     "output_type": "execute_result"
    }
   ],
   "source": [
    "# total dist covered troughs at 3\n",
    "human_readable_format(grouped_df.idxmin()[\"total_dist_covered\"]), \\\n",
    "    human_readable_format(grouped_df.min()[\"total_dist_covered\"])"
   ]
  },
  {
   "cell_type": "code",
   "execution_count": 25,
   "metadata": {},
   "outputs": [],
   "source": [
    "grouped_df = combined_df[combined_df[\"occupancy\"] == 1].groupby( \n",
    "    combined_df[\"datetime\"].map(lambda x : x.day_of_week)).agg(\n",
    "        number_of_trips=pd.NamedAgg(column=\"tid\", aggfunc=\"nunique\"),\n",
    "        total_dist_covered=pd.NamedAgg(column=\"dist_covered\", aggfunc=\"sum\"))\n",
    "grouped_df.index.names = [\"day_of_week\"]\n",
    "grouped_df.index = grouped_df.index.map({\n",
    "    0: \"Monday\", 1: \"Tuesday\", 2: \"Wednesday\", 3: \"Thursday\", 4: \"Friday\", 5: \"Saturday\", 6: \"Sunday\"})"
   ]
  },
  {
   "cell_type": "code",
   "execution_count": 26,
   "metadata": {},
   "outputs": [
    {
     "data": {
      "text/plain": [
       "<AxesSubplot:xlabel='day_of_week'>"
      ]
     },
     "execution_count": 26,
     "metadata": {},
     "output_type": "execute_result"
    },
    {
     "data": {
      "image/png": "[encoded data removed]",
      "text/plain": [
       "<Figure size 432x288 with 1 Axes>"
      ]
     },
     "metadata": {
      "needs_background": "light"
     },
     "output_type": "display_data"
    }
   ],
   "source": [
    "grouped_df[\"number_of_trips\"].plot(legend=True)"
   ]
  },
  {
   "cell_type": "code",
   "execution_count": 27,
   "metadata": {},
   "outputs": [
    {
     "data": {
      "text/plain": [
       "<AxesSubplot:xlabel='day_of_week'>"
      ]
     },
     "execution_count": 27,
     "metadata": {},
     "output_type": "execute_result"
    },
    {
     "data": {
      "image/png": "[encoded data removed]",
      "text/plain": [
       "<Figure size 432x288 with 1 Axes>"
      ]
     },
     "metadata": {
      "needs_background": "light"
     },
     "output_type": "display_data"
    }
   ],
   "source": [
    "# more distances are covered in Sundays\n",
    "# people tend to go places that are far usually on weekends\n",
    "grouped_df[\"total_dist_covered\"].plot(legend=True)"
   ]
  },
  {
   "cell_type": "code",
   "execution_count": 28,
   "metadata": {},
   "outputs": [
    {
     "data": {
      "text/plain": [
       "(Timestamp('2008-05-17 03:00:04'), Timestamp('2008-06-10 02:25:34'))"
      ]
     },
     "execution_count": 28,
     "metadata": {},
     "output_type": "execute_result"
    }
   ],
   "source": [
    "# data is from 17th of May to 10th of July\n",
    "# however, it is not uniform for each taxi (later analyzed in CO2 emission)\n",
    "combined_df[\"datetime\"].min(), combined_df[\"datetime\"].max()"
   ]
  },
  {
   "cell_type": "markdown",
   "metadata": {},
   "source": [
    "### Trip-wise analysis"
   ]
  },
  {
   "cell_type": "code",
   "execution_count": 29,
   "metadata": {},
   "outputs": [],
   "source": [
    "def minutes(series):\n",
    "    \"\"\"Returns the minutes\"\"\"\n",
    "    diff = series.max() - series.min()\n",
    "    return diff.total_seconds() / 60 \n",
    "\n",
    "def return_last(series):\n",
    "    \"\"\"Returns the last value\"\"\"\n",
    "    return series.values[-1]\n",
    "\n",
    "grouped_df = combined_df[combined_df[\"occupancy\"] == 1].groupby(\"tid\").agg(\n",
    "    total_dist_covered=pd.NamedAgg(column=\"dist_covered\", aggfunc=\"sum\"),\n",
    "    trip_duration=pd.NamedAgg(column=\"datetime\", aggfunc=minutes),\n",
    "    median_speed=pd.NamedAgg(column=\"km_per_hour\", aggfunc=\"median\"),\n",
    "    end_lat=pd.NamedAgg(column=\"lat\", aggfunc=return_last),\n",
    "    end_lng=pd.NamedAgg(column=\"lng\", aggfunc=return_last))"
   ]
  },
  {
   "cell_type": "code",
   "execution_count": 30,
   "metadata": {},
   "outputs": [
    {
     "data": {
      "text/plain": [
       "total_dist_covered    2.92\n",
       "trip_duration          8.5\n",
       "median_speed          18.1\n",
       "end_lat               37.8\n",
       "end_lng               -122\n",
       "dtype: object"
      ]
     },
     "execution_count": 30,
     "metadata": {},
     "output_type": "execute_result"
    }
   ],
   "source": [
    "# total_dist_covered(km), trip duration (minutes), avg_speed(km/h), ignore end lat and lng\n",
    "grouped_df.median().apply(human_readable_format)"
   ]
  },
  {
   "cell_type": "code",
   "execution_count": 31,
   "metadata": {},
   "outputs": [
    {
     "data": {
      "text/plain": [
       "<AxesSubplot:>"
      ]
     },
     "execution_count": 31,
     "metadata": {},
     "output_type": "execute_result"
    },
    {
     "data": {
      "image/png": "[encoded data removed]",
      "text/plain": [
       "<Figure size 432x288 with 1 Axes>"
      ]
     },
     "metadata": {
      "needs_background": "light"
     },
     "output_type": "display_data"
    }
   ],
   "source": [
    "# removing long distance trips as they are relatively few compared to small trips\n",
    "# peak at 22km is most probably the airport\n",
    "grouped_df[grouped_df[\"total_dist_covered\"] < 50][\"total_dist_covered\"].hist(bins=100, legend=True)"
   ]
  },
  {
   "cell_type": "code",
   "execution_count": 32,
   "metadata": {},
   "outputs": [
    {
     "data": {
      "text/plain": [
       "end_lat     37.721040\n",
       "end_lng   -122.394495\n",
       "dtype: float64"
      ]
     },
     "execution_count": 32,
     "metadata": {},
     "output_type": "execute_result"
    }
   ],
   "source": [
    "# San Francisco International Airport: 37.6213° N, 122.3790° W\n",
    "# close enough :)\n",
    "grouped_df[\n",
    "    (grouped_df[\"total_dist_covered\"] > 15) & (grouped_df[\"total_dist_covered\"] < 28)][[\"end_lat\", \"end_lng\"]].median()"
   ]
  },
  {
   "cell_type": "code",
   "execution_count": 33,
   "metadata": {},
   "outputs": [
    {
     "data": {
      "text/plain": [
       "<AxesSubplot:>"
      ]
     },
     "execution_count": 33,
     "metadata": {},
     "output_type": "execute_result"
    },
    {
     "data": {
      "image/png": "[encoded data removed]",
      "text/plain": [
       "<Figure size 432x288 with 1 Axes>"
      ]
     },
     "metadata": {
      "needs_background": "light"
     },
     "output_type": "display_data"
    }
   ],
   "source": [
    "grouped_df[grouped_df[\"trip_duration\"] < 150][\"trip_duration\"].hist(bins=100, legend=True)"
   ]
  },
  {
   "cell_type": "code",
   "execution_count": 34,
   "metadata": {},
   "outputs": [
    {
     "data": {
      "text/plain": [
       "<AxesSubplot:>"
      ]
     },
     "execution_count": 34,
     "metadata": {},
     "output_type": "execute_result"
    },
    {
     "data": {
      "image/png": "[encoded data removed]",
      "text/plain": [
       "<Figure size 432x288 with 1 Axes>"
      ]
     },
     "metadata": {
      "needs_background": "light"
     },
     "output_type": "display_data"
    }
   ],
   "source": [
    "grouped_df[grouped_df[\"median_speed\"] < 200][\"median_speed\"].hist(bins=100, legend=True)"
   ]
  },
  {
   "cell_type": "markdown",
   "metadata": {},
   "source": [
    "## CO2 Emission"
   ]
  },
  {
   "cell_type": "code",
   "execution_count": 35,
   "metadata": {},
   "outputs": [
    {
     "data": {
      "text/plain": [
       "0    6.17M\n",
       "1    4.99M\n",
       "Name: occupancy, dtype: object"
      ]
     },
     "execution_count": 35,
     "metadata": {},
     "output_type": "execute_result"
    }
   ],
   "source": [
    "# samples counts\n",
    "combined_df[\"occupancy\"].value_counts().apply(human_readable_format)"
   ]
  },
  {
   "cell_type": "code",
   "execution_count": 36,
   "metadata": {},
   "outputs": [],
   "source": [
    "distances_df = combined_df[combined_df[\"occupancy\"] == 0].groupby(\"uid\").agg(\n",
    "    number_of_trips=pd.NamedAgg(column=\"tid\", aggfunc=\"nunique\"),\n",
    "    total_dist_covered=pd.NamedAgg(column=\"dist_covered\", aggfunc=\"sum\"),\n",
    "    days_active=pd.NamedAgg(column=\"datetime\", aggfunc=day_range))\n",
    "distances_df[\"average_trip_distance\"] = distances_df[\"total_dist_covered\"] / distances_df[\"number_of_trips\"]\n",
    "distances_df[\"distance_covered_per_day\"] = distances_df[\"total_dist_covered\"] / distances_df[\"days_active\"]"
   ]
  },
  {
   "cell_type": "code",
   "execution_count": 37,
   "metadata": {},
   "outputs": [
    {
     "data": {
      "text/html": [
       "<div>\n",
       "<style scoped>\n",
       "    .dataframe tbody tr th:only-of-type {\n",
       "        vertical-align: middle;\n",
       "    }\n",
       "\n",
       "    .dataframe tbody tr th {\n",
       "        vertical-align: top;\n",
       "    }\n",
       "\n",
       "    .dataframe thead th {\n",
       "        text-align: right;\n",
       "    }\n",
       "</style>\n",
       "<table border=\"1\" class=\"dataframe\">\n",
       "  <thead>\n",
       "    <tr style=\"text-align: right;\">\n",
       "      <th></th>\n",
       "      <th>number_of_trips</th>\n",
       "      <th>total_dist_covered</th>\n",
       "      <th>days_active</th>\n",
       "      <th>average_trip_distance</th>\n",
       "      <th>distance_covered_per_day</th>\n",
       "    </tr>\n",
       "    <tr>\n",
       "      <th>uid</th>\n",
       "      <th></th>\n",
       "      <th></th>\n",
       "      <th></th>\n",
       "      <th></th>\n",
       "      <th></th>\n",
       "    </tr>\n",
       "  </thead>\n",
       "  <tbody>\n",
       "    <tr>\n",
       "      <th>new_egoiwroi</th>\n",
       "      <td>2</td>\n",
       "      <td>2.035594</td>\n",
       "      <td>0.123495</td>\n",
       "      <td>1.017797</td>\n",
       "      <td>16.483157</td>\n",
       "    </tr>\n",
       "    <tr>\n",
       "      <th>new_eotcue</th>\n",
       "      <td>3</td>\n",
       "      <td>5.539578</td>\n",
       "      <td>9.586690</td>\n",
       "      <td>1.846526</td>\n",
       "      <td>0.577840</td>\n",
       "    </tr>\n",
       "    <tr>\n",
       "      <th>new_ifeshce</th>\n",
       "      <td>8</td>\n",
       "      <td>12.721671</td>\n",
       "      <td>10.807512</td>\n",
       "      <td>1.590209</td>\n",
       "      <td>1.177114</td>\n",
       "    </tr>\n",
       "    <tr>\n",
       "      <th>new_mfeuer</th>\n",
       "      <td>3</td>\n",
       "      <td>27.189946</td>\n",
       "      <td>0.083600</td>\n",
       "      <td>9.063315</td>\n",
       "      <td>325.240390</td>\n",
       "    </tr>\n",
       "  </tbody>\n",
       "</table>\n",
       "</div>"
      ],
      "text/plain": [
       "              number_of_trips  total_dist_covered  days_active  \\\n",
       "uid                                                              \n",
       "new_egoiwroi                2            2.035594     0.123495   \n",
       "new_eotcue                  3            5.539578     9.586690   \n",
       "new_ifeshce                 8           12.721671    10.807512   \n",
       "new_mfeuer                  3           27.189946     0.083600   \n",
       "\n",
       "              average_trip_distance  distance_covered_per_day  \n",
       "uid                                                            \n",
       "new_egoiwroi               1.017797                 16.483157  \n",
       "new_eotcue                 1.846526                  0.577840  \n",
       "new_ifeshce                1.590209                  1.177114  \n",
       "new_mfeuer                 9.063315                325.240390  "
      ]
     },
     "execution_count": 37,
     "metadata": {},
     "output_type": "execute_result"
    }
   ],
   "source": [
    "# as we can see below, some taxis do not cover a lot of ground\n",
    "# this data needs to be normalized by the number of days that the taxi is active\n",
    "distances_df[distances_df[\"total_dist_covered\"] < 100]"
   ]
  },
  {
   "cell_type": "code",
   "execution_count": 38,
   "metadata": {},
   "outputs": [
    {
     "data": {
      "text/plain": [
       "'1.86M'"
      ]
     },
     "execution_count": 38,
     "metadata": {},
     "output_type": "execute_result"
    }
   ],
   "source": [
    "human_readable_format(distances_df[\"total_dist_covered\"].sum())"
   ]
  },
  {
   "cell_type": "code",
   "execution_count": 39,
   "metadata": {},
   "outputs": [
    {
     "data": {
      "text/plain": [
       "number_of_trips               930\n",
       "total_dist_covered          3.64K\n",
       "days_active                  23.3\n",
       "average_trip_distance        3.76\n",
       "distance_covered_per_day      158\n",
       "dtype: object"
      ]
     },
     "execution_count": 39,
     "metadata": {},
     "output_type": "execute_result"
    }
   ],
   "source": [
    "# getting the median in order to eliminate the effect of outliers (increasing mean)\n",
    "distances_df.median().apply(human_readable_format)"
   ]
  },
  {
   "cell_type": "code",
   "execution_count": 40,
   "metadata": {},
   "outputs": [
    {
     "data": {
      "text/plain": [
       "<AxesSubplot:>"
      ]
     },
     "execution_count": 40,
     "metadata": {},
     "output_type": "execute_result"
    },
    {
     "data": {
      "image/png": "[encoded data removed]",
      "text/plain": [
       "<Figure size 432x288 with 1 Axes>"
      ]
     },
     "metadata": {
      "needs_background": "light"
     },
     "output_type": "display_data"
    }
   ],
   "source": [
    "distances_df[\"distance_covered_per_day\"].hist(bins=25, legend=True)"
   ]
  },
  {
   "cell_type": "code",
   "execution_count": 41,
   "metadata": {},
   "outputs": [
    {
     "data": {
      "text/plain": [
       "(0.5778404957822241, 442.3276073169632)"
      ]
     },
     "execution_count": 41,
     "metadata": {},
     "output_type": "execute_result"
    }
   ],
   "source": [
    "# these may be faulty data due to gps, and an error calculating number of days active for taxi drivers\n",
    "distances_df[\"distance_covered_per_day\"].min(), distances_df[\"distance_covered_per_day\"].max()"
   ]
  },
  {
   "cell_type": "code",
   "execution_count": 42,
   "metadata": {},
   "outputs": [
    {
     "name": "stdout",
     "output_type": "stream",
     "text": [
      "Daily: 39.8K\n",
      "Weekly: 279K\n",
      "Monthly: 1.19M\n",
      "Yearly: 14.5M\n"
     ]
    }
   ],
   "source": [
    "# CO2 emission per taxi during idle time daily\n",
    "co2_emission_per_taxi = distances_df[\"distance_covered_per_day\"].median() * KM_TO_MILES * CO2_PER_MILE\n",
    "\n",
    "monthly_co2_emission = co2_emission_per_taxi * 30\n",
    "yearly_co2_emission = co2_emission_per_taxi * 365\n",
    "print(f\"Daily: {human_readable_format(co2_emission_per_taxi)}\")\n",
    "print(f\"Weekly: {human_readable_format(co2_emission_per_taxi * 7)}\")\n",
    "print(f\"Monthly: {human_readable_format(monthly_co2_emission)}\")\n",
    "print(f\"Yearly: {human_readable_format(yearly_co2_emission)}\")"
   ]
  },
  {
   "cell_type": "code",
   "execution_count": 43,
   "metadata": {},
   "outputs": [
    {
     "name": "stdout",
     "output_type": "stream",
     "text": [
      "5.8M\n"
     ]
    }
   ],
   "source": [
    "yearly_co2_emission_with_electric_car = sum([monthly_co2_emission * (0.85 ** n) for n in range(1, 13)]) \n",
    "print(human_readable_format(yearly_co2_emission_with_electric_car))"
   ]
  },
  {
   "cell_type": "code",
   "execution_count": 44,
   "metadata": {},
   "outputs": [
    {
     "data": {
      "text/plain": [
       "60.04961608579432"
      ]
     },
     "execution_count": 44,
     "metadata": {},
     "output_type": "execute_result"
    }
   ],
   "source": [
    "# around 60% reduction in CO2 emission assuming that the taxi cab fleet is changing at the rate of 15% per month\n",
    "100 * (yearly_co2_emission - yearly_co2_emission_with_electric_car) / yearly_co2_emission"
   ]
  },
  {
   "cell_type": "code",
   "execution_count": 45,
   "metadata": {},
   "outputs": [
    {
     "data": {
      "text/plain": [
       "'8.72M'"
      ]
     },
     "execution_count": 45,
     "metadata": {},
     "output_type": "execute_result"
    }
   ],
   "source": [
    "# From 29.9 to 11.9M --> 17.9M CO2 emission reduction per car\n",
    "human_readable_format(yearly_co2_emission - yearly_co2_emission_with_electric_car)"
   ]
  },
  {
   "cell_type": "code",
   "execution_count": 46,
   "metadata": {},
   "outputs": [],
   "source": [
    "# https://www.wikiwand.com/en/Taxis_of_the_United_States\n",
    "# 1825 taxis in San Francisco"
   ]
  },
  {
   "cell_type": "code",
   "execution_count": 47,
   "metadata": {},
   "outputs": [
    {
     "name": "stdout",
     "output_type": "stream",
     "text": [
      "Total CO2 emission yearly: 26.5B\n",
      "Total CO2 emission yearly with taxi cab fleet changing at the rate of 15% per month: 10.6B\n",
      "Potential for yearly reduction on CO2 emissions: 15.9B\n"
     ]
    }
   ],
   "source": [
    "total_emission = 1825 * yearly_co2_emission\n",
    "total_emission_with_electric_car = 1825 * yearly_co2_emission_with_electric_car\n",
    "print(f\"Total CO2 emission yearly: {human_readable_format(total_emission)}\")\n",
    "print(\n",
    "    \"Total CO2 emission yearly with taxi cab fleet changing at the rate of \"\n",
    "    f\"15% per month: {human_readable_format(total_emission_with_electric_car)}\")\n",
    "print(\n",
    "    \"Potential for yearly reduction on CO2 emissions: \"\n",
    "    f\"{human_readable_format(total_emission - total_emission_with_electric_car)}\")"
   ]
  },
  {
   "cell_type": "markdown",
   "metadata": {},
   "source": [
    "## Predictor for taxi drivers, \n",
    "\n",
    "Predicting the next place a passenger will hail a cab."
   ]
  },
  {
   "cell_type": "code",
   "execution_count": null,
   "metadata": {},
   "outputs": [],
   "source": [
    "dfs = []\n",
    "filtered_combined_df = combined_df[combined_df[\"is_change_point\"] == True]\n",
    "for uid in tqdm_notebook(combined_df[\"uid\"].unique()):\n",
    "    df = filtered_combined_df[combined_df[\"uid\"] == uid]\n",
    "    df[\"next_lat\"] = df[\"lat\"].shift(-1)\n",
    "    df[\"next_lng\"] = df[\"lng\"].shift(-1)\n",
    "    dfs.append(df[[\"lat\", \"lng\", \"next_lat\", \"next_lng\", \"occupancy\", \"datetime\", \"uid\", \"is_change_point\"]])\n",
    "combined_pred_df = pd.concat(dfs)\n",
    "del dfs\n",
    "collect()"
   ]
  },
  {
   "cell_type": "code",
   "execution_count": 49,
   "metadata": {},
   "outputs": [],
   "source": [
    "combined_pred_df = combined_pred_df[combined_pred_df[\"occupancy\"] == 0].dropna().reset_index(drop=True)"
   ]
  },
  {
   "cell_type": "code",
   "execution_count": 50,
   "metadata": {},
   "outputs": [
    {
     "data": {
      "text/html": [
       "<div>\n",
       "<style scoped>\n",
       "    .dataframe tbody tr th:only-of-type {\n",
       "        vertical-align: middle;\n",
       "    }\n",
       "\n",
       "    .dataframe tbody tr th {\n",
       "        vertical-align: top;\n",
       "    }\n",
       "\n",
       "    .dataframe thead th {\n",
       "        text-align: right;\n",
       "    }\n",
       "</style>\n",
       "<table border=\"1\" class=\"dataframe\">\n",
       "  <thead>\n",
       "    <tr style=\"text-align: right;\">\n",
       "      <th></th>\n",
       "      <th>lat</th>\n",
       "      <th>lng</th>\n",
       "      <th>next_lat</th>\n",
       "      <th>next_lng</th>\n",
       "      <th>occupancy</th>\n",
       "      <th>datetime</th>\n",
       "      <th>uid</th>\n",
       "      <th>is_change_point</th>\n",
       "    </tr>\n",
       "  </thead>\n",
       "  <tbody>\n",
       "    <tr>\n",
       "      <th>0</th>\n",
       "      <td>37.75153</td>\n",
       "      <td>-122.39447</td>\n",
       "      <td>37.74977</td>\n",
       "      <td>-122.39724</td>\n",
       "      <td>0</td>\n",
       "      <td>2008-05-17 07:12:10</td>\n",
       "      <td>new_abboip</td>\n",
       "      <td>True</td>\n",
       "    </tr>\n",
       "    <tr>\n",
       "      <th>1</th>\n",
       "      <td>37.75580</td>\n",
       "      <td>-122.41441</td>\n",
       "      <td>37.75053</td>\n",
       "      <td>-122.42086</td>\n",
       "      <td>0</td>\n",
       "      <td>2008-05-17 07:56:00</td>\n",
       "      <td>new_abboip</td>\n",
       "      <td>True</td>\n",
       "    </tr>\n",
       "    <tr>\n",
       "      <th>2</th>\n",
       "      <td>37.75177</td>\n",
       "      <td>-122.43095</td>\n",
       "      <td>37.77173</td>\n",
       "      <td>-122.41838</td>\n",
       "      <td>0</td>\n",
       "      <td>2008-05-17 08:21:50</td>\n",
       "      <td>new_abboip</td>\n",
       "      <td>True</td>\n",
       "    </tr>\n",
       "    <tr>\n",
       "      <th>3</th>\n",
       "      <td>37.77181</td>\n",
       "      <td>-122.41833</td>\n",
       "      <td>37.77181</td>\n",
       "      <td>-122.41833</td>\n",
       "      <td>0</td>\n",
       "      <td>2008-05-17 08:46:06</td>\n",
       "      <td>new_abboip</td>\n",
       "      <td>True</td>\n",
       "    </tr>\n",
       "    <tr>\n",
       "      <th>4</th>\n",
       "      <td>37.61736</td>\n",
       "      <td>-122.38765</td>\n",
       "      <td>37.75240</td>\n",
       "      <td>-122.41842</td>\n",
       "      <td>0</td>\n",
       "      <td>2008-05-17 09:02:58</td>\n",
       "      <td>new_abboip</td>\n",
       "      <td>True</td>\n",
       "    </tr>\n",
       "  </tbody>\n",
       "</table>\n",
       "</div>"
      ],
      "text/plain": [
       "        lat        lng  next_lat   next_lng  occupancy            datetime  \\\n",
       "0  37.75153 -122.39447  37.74977 -122.39724          0 2008-05-17 07:12:10   \n",
       "1  37.75580 -122.41441  37.75053 -122.42086          0 2008-05-17 07:56:00   \n",
       "2  37.75177 -122.43095  37.77173 -122.41838          0 2008-05-17 08:21:50   \n",
       "3  37.77181 -122.41833  37.77181 -122.41833          0 2008-05-17 08:46:06   \n",
       "4  37.61736 -122.38765  37.75240 -122.41842          0 2008-05-17 09:02:58   \n",
       "\n",
       "          uid  is_change_point  \n",
       "0  new_abboip             True  \n",
       "1  new_abboip             True  \n",
       "2  new_abboip             True  \n",
       "3  new_abboip             True  \n",
       "4  new_abboip             True  "
      ]
     },
     "execution_count": 50,
     "metadata": {},
     "output_type": "execute_result"
    }
   ],
   "source": [
    "combined_pred_df.head()"
   ]
  },
  {
   "cell_type": "code",
   "execution_count": 51,
   "metadata": {},
   "outputs": [],
   "source": [
    "def create_date_features(df, date_column_name):\n",
    "    \"\"\"Creates date related features from the date column\"\"\"\n",
    "    df[f\"hour_{date_column_name}\"] = df[date_column_name].dt.hour\n",
    "    df[f\"minute_{date_column_name}\"] = df[date_column_name].dt.minute\n",
    "    df[f\"day_of_month_{date_column_name}\"] = df[date_column_name].dt.day\n",
    "    df[f\"week_of_month_{date_column_name}\"] = \\\n",
    "        (df[date_column_name].apply(lambda d: (d.day-1) // 7 + 1))\n",
    "    df[f\"day_of_week_{date_column_name}\"] = (df[date_column_name].dt.dayofweek + 1)\n",
    "    df[f\"is_wknd_{date_column_name}\"] = (df[date_column_name].dt.weekday // 4)\n",
    "    return df  # .drop(date_column_name, axis=1)"
   ]
  },
  {
   "cell_type": "code",
   "execution_count": 52,
   "metadata": {},
   "outputs": [
    {
     "data": {
      "text/plain": [
       "<AxesSubplot:>"
      ]
     },
     "execution_count": 52,
     "metadata": {},
     "output_type": "execute_result"
    },
    {
     "data": {
      "image/png": "[encoded data removed]",
      "text/plain": [
       "<Figure size 432x288 with 1 Axes>"
      ]
     },
     "metadata": {
      "needs_background": "light"
     },
     "output_type": "display_data"
    }
   ],
   "source": [
    "combined_pred_df[\"next_lat\"][(combined_pred_df[\"next_lat\"] > 37.5) & (combined_pred_df[\"next_lat\"] < 37.85)].hist(bins=100, legend=True)"
   ]
  },
  {
   "cell_type": "code",
   "execution_count": 53,
   "metadata": {},
   "outputs": [
    {
     "data": {
      "text/plain": [
       "<AxesSubplot:>"
      ]
     },
     "execution_count": 53,
     "metadata": {},
     "output_type": "execute_result"
    },
    {
     "data": {
      "image/png": "[encoded data removed]",
      "text/plain": [
       "<Figure size 432x288 with 1 Axes>"
      ]
     },
     "metadata": {
      "needs_background": "light"
     },
     "output_type": "display_data"
    }
   ],
   "source": [
    "combined_pred_df[\"next_lng\"][(combined_pred_df[\"next_lng\"] > -122.7) & (combined_pred_df[\"next_lng\"] < -122.3)].hist(bins=100, legend=True)"
   ]
  },
  {
   "cell_type": "code",
   "execution_count": 54,
   "metadata": {},
   "outputs": [
    {
     "data": {
      "text/html": [
       "<div>\n",
       "<style scoped>\n",
       "    .dataframe tbody tr th:only-of-type {\n",
       "        vertical-align: middle;\n",
       "    }\n",
       "\n",
       "    .dataframe tbody tr th {\n",
       "        vertical-align: top;\n",
       "    }\n",
       "\n",
       "    .dataframe thead th {\n",
       "        text-align: right;\n",
       "    }\n",
       "</style>\n",
       "<table border=\"1\" class=\"dataframe\">\n",
       "  <thead>\n",
       "    <tr style=\"text-align: right;\">\n",
       "      <th></th>\n",
       "      <th>lat</th>\n",
       "      <th>lng</th>\n",
       "      <th>next_lat</th>\n",
       "      <th>next_lng</th>\n",
       "      <th>occupancy</th>\n",
       "      <th>datetime</th>\n",
       "      <th>uid</th>\n",
       "      <th>is_change_point</th>\n",
       "      <th>hour_datetime</th>\n",
       "      <th>minute_datetime</th>\n",
       "      <th>day_of_month_datetime</th>\n",
       "      <th>week_of_month_datetime</th>\n",
       "      <th>day_of_week_datetime</th>\n",
       "      <th>is_wknd_datetime</th>\n",
       "    </tr>\n",
       "  </thead>\n",
       "  <tbody>\n",
       "    <tr>\n",
       "      <th>0</th>\n",
       "      <td>37.75153</td>\n",
       "      <td>-122.39447</td>\n",
       "      <td>37.74977</td>\n",
       "      <td>-122.39724</td>\n",
       "      <td>0</td>\n",
       "      <td>2008-05-17 07:12:10</td>\n",
       "      <td>new_abboip</td>\n",
       "      <td>True</td>\n",
       "      <td>7</td>\n",
       "      <td>12</td>\n",
       "      <td>17</td>\n",
       "      <td>3</td>\n",
       "      <td>6</td>\n",
       "      <td>1</td>\n",
       "    </tr>\n",
       "    <tr>\n",
       "      <th>1</th>\n",
       "      <td>37.75580</td>\n",
       "      <td>-122.41441</td>\n",
       "      <td>37.75053</td>\n",
       "      <td>-122.42086</td>\n",
       "      <td>0</td>\n",
       "      <td>2008-05-17 07:56:00</td>\n",
       "      <td>new_abboip</td>\n",
       "      <td>True</td>\n",
       "      <td>7</td>\n",
       "      <td>56</td>\n",
       "      <td>17</td>\n",
       "      <td>3</td>\n",
       "      <td>6</td>\n",
       "      <td>1</td>\n",
       "    </tr>\n",
       "    <tr>\n",
       "      <th>2</th>\n",
       "      <td>37.75177</td>\n",
       "      <td>-122.43095</td>\n",
       "      <td>37.77173</td>\n",
       "      <td>-122.41838</td>\n",
       "      <td>0</td>\n",
       "      <td>2008-05-17 08:21:50</td>\n",
       "      <td>new_abboip</td>\n",
       "      <td>True</td>\n",
       "      <td>8</td>\n",
       "      <td>21</td>\n",
       "      <td>17</td>\n",
       "      <td>3</td>\n",
       "      <td>6</td>\n",
       "      <td>1</td>\n",
       "    </tr>\n",
       "    <tr>\n",
       "      <th>3</th>\n",
       "      <td>37.77181</td>\n",
       "      <td>-122.41833</td>\n",
       "      <td>37.77181</td>\n",
       "      <td>-122.41833</td>\n",
       "      <td>0</td>\n",
       "      <td>2008-05-17 08:46:06</td>\n",
       "      <td>new_abboip</td>\n",
       "      <td>True</td>\n",
       "      <td>8</td>\n",
       "      <td>46</td>\n",
       "      <td>17</td>\n",
       "      <td>3</td>\n",
       "      <td>6</td>\n",
       "      <td>1</td>\n",
       "    </tr>\n",
       "    <tr>\n",
       "      <th>4</th>\n",
       "      <td>37.61736</td>\n",
       "      <td>-122.38765</td>\n",
       "      <td>37.75240</td>\n",
       "      <td>-122.41842</td>\n",
       "      <td>0</td>\n",
       "      <td>2008-05-17 09:02:58</td>\n",
       "      <td>new_abboip</td>\n",
       "      <td>True</td>\n",
       "      <td>9</td>\n",
       "      <td>2</td>\n",
       "      <td>17</td>\n",
       "      <td>3</td>\n",
       "      <td>6</td>\n",
       "      <td>1</td>\n",
       "    </tr>\n",
       "  </tbody>\n",
       "</table>\n",
       "</div>"
      ],
      "text/plain": [
       "        lat        lng  next_lat   next_lng  occupancy            datetime  \\\n",
       "0  37.75153 -122.39447  37.74977 -122.39724          0 2008-05-17 07:12:10   \n",
       "1  37.75580 -122.41441  37.75053 -122.42086          0 2008-05-17 07:56:00   \n",
       "2  37.75177 -122.43095  37.77173 -122.41838          0 2008-05-17 08:21:50   \n",
       "3  37.77181 -122.41833  37.77181 -122.41833          0 2008-05-17 08:46:06   \n",
       "4  37.61736 -122.38765  37.75240 -122.41842          0 2008-05-17 09:02:58   \n",
       "\n",
       "          uid  is_change_point  hour_datetime  minute_datetime  \\\n",
       "0  new_abboip             True              7               12   \n",
       "1  new_abboip             True              7               56   \n",
       "2  new_abboip             True              8               21   \n",
       "3  new_abboip             True              8               46   \n",
       "4  new_abboip             True              9                2   \n",
       "\n",
       "   day_of_month_datetime  week_of_month_datetime  day_of_week_datetime  \\\n",
       "0                     17                       3                     6   \n",
       "1                     17                       3                     6   \n",
       "2                     17                       3                     6   \n",
       "3                     17                       3                     6   \n",
       "4                     17                       3                     6   \n",
       "\n",
       "   is_wknd_datetime  \n",
       "0                 1  \n",
       "1                 1  \n",
       "2                 1  \n",
       "3                 1  \n",
       "4                 1  "
      ]
     },
     "execution_count": 54,
     "metadata": {},
     "output_type": "execute_result"
    }
   ],
   "source": [
    "combined_pred_df = create_date_features(combined_pred_df, \"datetime\")\n",
    "combined_pred_df.head()"
   ]
  },
  {
   "cell_type": "code",
   "execution_count": 55,
   "metadata": {},
   "outputs": [],
   "source": [
    "def cross_validate_lgbm(data, label, params):\n",
    "    \"\"\"Cross-validates lgbm using time  cross validation\"\"\"\n",
    "    return lgb.cv(\n",
    "        params,\n",
    "        lgb.Dataset(data, label=label),\n",
    "        num_boost_round=NUM_BOOSTING_ROUNDS, # more rounds can be better\n",
    "        folds=TimeSeriesSplit(), #KFold(), TimeSeriesSplit() \n",
    "        metrics=\"mae\")\n",
    "\n",
    "def objective(trial, data, label):\n",
    "    \"\"\"Optuna objective for maximizing auc in lgbm cross validation\"\"\"\n",
    "    params = {\n",
    "        \"objective\": \"regression_l1\", # regression_l1, regression, huber, fair, poisson, quantile, mape, gamma, tweedie\n",
    "        \"metric\": \"mae\",\n",
    "        \"lambda_l1\": trial.suggest_float(\"lambda_l1\", 1e-8, 10.0, log=True),\n",
    "        \"lambda_l2\": trial.suggest_float(\"lambda_l2\", 1e-8, 10.0, log=True),\n",
    "        \"num_leaves\": trial.suggest_int(\"num_leaves\", 2, 256),\n",
    "        \"feature_fraction\": trial.suggest_float(\"feature_fraction\", 0.4, 1.0),\n",
    "        \"bagging_fraction\": trial.suggest_float(\"bagging_fraction\", 0.4, 1.0),\n",
    "        \"bagging_freq\": trial.suggest_int(\"bagging_freq\", 1, 7),\n",
    "        \"min_child_samples\": trial.suggest_int(\"min_child_samples\", 5, 100)}\n",
    "    cv_results = cross_validate_lgbm(data, label, params)\n",
    "    return cv_results[\"l1-mean\"][-1]"
   ]
  },
  {
   "cell_type": "code",
   "execution_count": 56,
   "metadata": {},
   "outputs": [
    {
     "data": {
      "text/plain": [
       "Index(['lat', 'lng', 'next_lat', 'next_lng', 'occupancy', 'datetime', 'uid',\n",
       "       'is_change_point', 'hour_datetime', 'minute_datetime',\n",
       "       'day_of_month_datetime', 'week_of_month_datetime',\n",
       "       'day_of_week_datetime', 'is_wknd_datetime'],\n",
       "      dtype='object')"
      ]
     },
     "execution_count": 56,
     "metadata": {},
     "output_type": "execute_result"
    }
   ],
   "source": [
    "combined_pred_df.columns"
   ]
  },
  {
   "cell_type": "code",
   "execution_count": 57,
   "metadata": {},
   "outputs": [],
   "source": [
    "combined_pred_df = combined_pred_df.sort_values(\"datetime\")"
   ]
  },
  {
   "cell_type": "code",
   "execution_count": 58,
   "metadata": {},
   "outputs": [
    {
     "name": "stdout",
     "output_type": "stream",
     "text": [
      "Best cross validation mae: 0.00915\n"
     ]
    }
   ],
   "source": [
    "lng_data = combined_pred_df[[\n",
    "    \"lat\", \"lng\", \"hour_datetime\", \"minute_datetime\", \"day_of_month_datetime\", \"week_of_month_datetime\", \n",
    "    \"day_of_week_datetime\", \"is_wknd_datetime\"]]\n",
    "# data[\"uid\"] = data[\"uid\"].astype(\"category\")\n",
    "lng_labels = combined_pred_df[\"next_lng\"]\n",
    "\n",
    "optuna.logging.set_verbosity(optuna.logging.WARNING) # INFO, WARNING\n",
    "study = optuna.create_study(direction=\"minimize\")\n",
    "study.optimize(\n",
    "    lambda trial: objective(trial, lng_data, lng_labels), \n",
    "    n_trials=NUM_TRIALS, n_jobs=-1) # more trials is better\n",
    "lng_mae = round(study.best_value, 5)\n",
    "print(f\"Best cross validation mae: {lng_mae}\")\n",
    "\n",
    "lng_params = study.best_params\n",
    "# parameters that are not tuned are left out of the best params dict\n",
    "lng_params[\"objective\"] = \"regression\"\n",
    "lng_params[\"metric\"] = \"mae\"\n",
    "lng_params[\"verbosity\"] = -1"
   ]
  },
  {
   "cell_type": "code",
   "execution_count": 59,
   "metadata": {},
   "outputs": [
    {
     "name": "stdout",
     "output_type": "stream",
     "text": [
      "Best cross validation mae: 0.01351\n"
     ]
    }
   ],
   "source": [
    "lat_data = combined_pred_df[[\n",
    "    \"lat\", \"lng\", \"hour_datetime\", \"minute_datetime\", \"day_of_month_datetime\", \"week_of_month_datetime\", \n",
    "    \"day_of_week_datetime\", \"is_wknd_datetime\"]]\n",
    "lat_labels = combined_pred_df[\"next_lat\"]\n",
    "# data[\"uid\"] = data[\"uid\"].astype(\"category\")\n",
    "\n",
    "optuna.logging.set_verbosity(optuna.logging.WARNING) # INFO, WARNING\n",
    "study = optuna.create_study(direction=\"minimize\")\n",
    "study.optimize(\n",
    "    lambda trial: objective(trial, lat_data, lat_labels), \n",
    "    n_trials=NUM_TRIALS, n_jobs=-1) # more trials is better\n",
    "lat_mae = round(study.best_value, 5)\n",
    "print(f\"Best cross validation mae: {lat_mae}\")\n",
    "\n",
    "lat_params = study.best_params\n",
    "# parameters that are not tuned are left out of the best params dict\n",
    "lat_params[\"objective\"] = \"regression\"\n",
    "lat_params[\"metric\"] = \"mae\"\n",
    "lat_params[\"verbosity\"] = -1"
   ]
  },
  {
   "cell_type": "code",
   "execution_count": 60,
   "metadata": {},
   "outputs": [
    {
     "name": "stdout",
     "output_type": "stream",
     "text": [
      "Cross validation mae in kms: 1.7039273042745329\n"
     ]
    }
   ],
   "source": [
    "# san francisco lat long 37.7749° N, 122.4194° W \n",
    "cross_validation_mae = haversine((37.7749, -122.4194), (37.7749 + lat_mae, -122.4194 + lng_mae))\n",
    "print(f\"Cross validation mae in kms: {cross_validation_mae}\")"
   ]
  },
  {
   "cell_type": "code",
   "execution_count": 61,
   "metadata": {},
   "outputs": [],
   "source": [
    "# baseline model: next passenger is in the same location as the drop off point\n",
    "pred_df = pd.DataFrame([\n",
    "    combined_pred_df[\"next_lat\"] - combined_pred_df[\"lat\"], combined_pred_df[\"next_lng\"] - combined_pred_df[\"lng\"]]).T\n",
    "pred_df = pred_df.abs()\n",
    "pred_df.columns = [\"pred_lat\", \"pred_lng\"]\n",
    "pred_df[\"mae_in_kms\"] = pred_df.apply(\n",
    "    lambda x: abs(haversine((37.7749, -122.4194), (37.7749 + x[\"pred_lat\"], -122.4194 + x[\"pred_lng\"]))), axis=1)\n",
    "pred_means = pred_df.mean()"
   ]
  },
  {
   "cell_type": "code",
   "execution_count": 62,
   "metadata": {},
   "outputs": [
    {
     "data": {
      "text/plain": [
       "pred_lat      0.016725\n",
       "pred_lng      0.012630\n",
       "mae_in_kms    2.437720\n",
       "dtype: float64"
      ]
     },
     "execution_count": 62,
     "metadata": {},
     "output_type": "execute_result"
    }
   ],
   "source": [
    "pred_means"
   ]
  },
  {
   "cell_type": "code",
   "execution_count": 63,
   "metadata": {},
   "outputs": [
    {
     "data": {
      "text/plain": [
       "pred_lat      0.038954\n",
       "pred_lng      0.025736\n",
       "mae_in_kms    4.755497\n",
       "dtype: float64"
      ]
     },
     "execution_count": 63,
     "metadata": {},
     "output_type": "execute_result"
    }
   ],
   "source": [
    "pred_df.std()"
   ]
  },
  {
   "cell_type": "code",
   "execution_count": 64,
   "metadata": {},
   "outputs": [
    {
     "data": {
      "text/html": [
       "<div>\n",
       "<style scoped>\n",
       "    .dataframe tbody tr th:only-of-type {\n",
       "        vertical-align: middle;\n",
       "    }\n",
       "\n",
       "    .dataframe tbody tr th {\n",
       "        vertical-align: top;\n",
       "    }\n",
       "\n",
       "    .dataframe thead th {\n",
       "        text-align: right;\n",
       "    }\n",
       "</style>\n",
       "<table border=\"1\" class=\"dataframe\">\n",
       "  <thead>\n",
       "    <tr style=\"text-align: right;\">\n",
       "      <th></th>\n",
       "      <th>pred_lat</th>\n",
       "      <th>pred_lng</th>\n",
       "      <th>mae_in_kms</th>\n",
       "    </tr>\n",
       "  </thead>\n",
       "  <tbody>\n",
       "    <tr>\n",
       "      <th>291968</th>\n",
       "      <td>0.13473</td>\n",
       "      <td>0.00525</td>\n",
       "      <td>14.988405</td>\n",
       "    </tr>\n",
       "    <tr>\n",
       "      <th>440263</th>\n",
       "      <td>0.06634</td>\n",
       "      <td>0.08442</td>\n",
       "      <td>10.460357</td>\n",
       "    </tr>\n",
       "    <tr>\n",
       "      <th>313868</th>\n",
       "      <td>0.03822</td>\n",
       "      <td>0.29048</td>\n",
       "      <td>25.875417</td>\n",
       "    </tr>\n",
       "    <tr>\n",
       "      <th>260305</th>\n",
       "      <td>0.01836</td>\n",
       "      <td>0.24338</td>\n",
       "      <td>21.485510</td>\n",
       "    </tr>\n",
       "    <tr>\n",
       "      <th>157994</th>\n",
       "      <td>0.30296</td>\n",
       "      <td>0.27799</td>\n",
       "      <td>41.585714</td>\n",
       "    </tr>\n",
       "    <tr>\n",
       "      <th>...</th>\n",
       "      <td>...</td>\n",
       "      <td>...</td>\n",
       "      <td>...</td>\n",
       "    </tr>\n",
       "    <tr>\n",
       "      <th>444941</th>\n",
       "      <td>0.17107</td>\n",
       "      <td>0.02744</td>\n",
       "      <td>19.174068</td>\n",
       "    </tr>\n",
       "    <tr>\n",
       "      <th>449602</th>\n",
       "      <td>0.26177</td>\n",
       "      <td>0.20388</td>\n",
       "      <td>34.164443</td>\n",
       "    </tr>\n",
       "    <tr>\n",
       "      <th>250705</th>\n",
       "      <td>0.09655</td>\n",
       "      <td>0.13621</td>\n",
       "      <td>16.074593</td>\n",
       "    </tr>\n",
       "    <tr>\n",
       "      <th>195466</th>\n",
       "      <td>0.05515</td>\n",
       "      <td>0.11051</td>\n",
       "      <td>11.483710</td>\n",
       "    </tr>\n",
       "    <tr>\n",
       "      <th>355439</th>\n",
       "      <td>0.16841</td>\n",
       "      <td>0.00298</td>\n",
       "      <td>18.728191</td>\n",
       "    </tr>\n",
       "  </tbody>\n",
       "</table>\n",
       "<p>33037 rows × 3 columns</p>\n",
       "</div>"
      ],
      "text/plain": [
       "        pred_lat  pred_lng  mae_in_kms\n",
       "291968   0.13473   0.00525   14.988405\n",
       "440263   0.06634   0.08442   10.460357\n",
       "313868   0.03822   0.29048   25.875417\n",
       "260305   0.01836   0.24338   21.485510\n",
       "157994   0.30296   0.27799   41.585714\n",
       "...          ...       ...         ...\n",
       "444941   0.17107   0.02744   19.174068\n",
       "449602   0.26177   0.20388   34.164443\n",
       "250705   0.09655   0.13621   16.074593\n",
       "195466   0.05515   0.11051   11.483710\n",
       "355439   0.16841   0.00298   18.728191\n",
       "\n",
       "[33037 rows x 3 columns]"
      ]
     },
     "execution_count": 64,
     "metadata": {},
     "output_type": "execute_result"
    }
   ],
   "source": [
    "pred_df[pred_df[\"mae_in_kms\"] > 10]"
   ]
  },
  {
   "cell_type": "code",
   "execution_count": 65,
   "metadata": {},
   "outputs": [
    {
     "data": {
      "text/plain": [
       "<AxesSubplot:>"
      ]
     },
     "execution_count": 65,
     "metadata": {},
     "output_type": "execute_result"
    },
    {
     "data": {
      "image/png": "[encoded data removed]",
      "text/plain": [
       "<Figure size 432x288 with 1 Axes>"
      ]
     },
     "metadata": {
      "needs_background": "light"
     },
     "output_type": "display_data"
    }
   ],
   "source": [
    "# seems like some of the taxis going to airport come back without a passenger\n",
    "pred_df[pred_df[\"mae_in_kms\"] < 50][\"mae_in_kms\"].hist(bins=100, legend=True)"
   ]
  },
  {
   "cell_type": "code",
   "execution_count": 66,
   "metadata": {},
   "outputs": [
    {
     "name": "stdout",
     "output_type": "stream",
     "text": [
      "Baseline mae in kms: 2.165774861432214\n"
     ]
    }
   ],
   "source": [
    "baseline_mae = haversine((37.7749, -122.4194), (37.7749 + pred_means[\"pred_lat\"], -122.4194 + pred_means[\"pred_lng\"]))\n",
    "print(f\"Baseline mae in kms: {baseline_mae}\")"
   ]
  },
  {
   "cell_type": "code",
   "execution_count": 67,
   "metadata": {},
   "outputs": [
    {
     "data": {
      "text/plain": [
       "'0.213'"
      ]
     },
     "execution_count": 67,
     "metadata": {},
     "output_type": "execute_result"
    }
   ],
   "source": [
    "# lgb model is 22.4% better in terms of mae\n",
    "human_readable_format((baseline_mae - cross_validation_mae) / baseline_mae)"
   ]
  },
  {
   "cell_type": "markdown",
   "metadata": {},
   "source": [
    "Digging deeper into the LGB Model"
   ]
  },
  {
   "cell_type": "code",
   "execution_count": 68,
   "metadata": {},
   "outputs": [],
   "source": [
    "threshold = int(len(lat_data) * 0.7)\n",
    "lat_train_df, lat_test_df = lat_data.iloc[:threshold], lat_data.iloc[threshold:]\n",
    "lat_train_labels, lat_test_labels = lat_labels.iloc[:threshold], lat_labels.iloc[threshold:]\n",
    "\n",
    "lng_train_df, lng_test_df = lng_data.iloc[:threshold], lng_data.iloc[threshold:]\n",
    "lng_train_labels, lng_test_labels = lng_labels.iloc[:threshold], lng_labels.iloc[threshold:]"
   ]
  },
  {
   "cell_type": "code",
   "execution_count": 69,
   "metadata": {},
   "outputs": [],
   "source": [
    "def train_model(X_train, y_train, X_test, y_test, params):\n",
    "    \"\"\"Trains a model\"\"\"    \n",
    "    training_data = lgb.Dataset(X_train, label=y_train)\n",
    "    test_data = lgb.Dataset(X_test, y_test)\n",
    "    print(\"Preparing final model...\")\n",
    "    bst = lgb.train(\n",
    "        params, training_data,\n",
    "        num_boost_round=NUM_BOOSTING_ROUNDS, \n",
    "        keep_training_booster=True, valid_sets=[training_data, test_data])\n",
    "    return bst"
   ]
  },
  {
   "cell_type": "code",
   "execution_count": 70,
   "metadata": {},
   "outputs": [
    {
     "name": "stdout",
     "output_type": "stream",
     "text": [
      "Preparing final model...\n",
      "[1]\ttraining's l1: 0.022549\tvalid_1's l1: 0.0234727\n",
      "[2]\ttraining's l1: 0.0215614\tvalid_1's l1: 0.0225326\n",
      "[3]\ttraining's l1: 0.0207096\tvalid_1's l1: 0.0216991\n",
      "[4]\ttraining's l1: 0.0199731\tvalid_1's l1: 0.0210158\n",
      "[5]\ttraining's l1: 0.019334\tvalid_1's l1: 0.0203818\n",
      "[6]\ttraining's l1: 0.0187794\tvalid_1's l1: 0.0199134\n",
      "[7]\ttraining's l1: 0.0182926\tvalid_1's l1: 0.0194494\n",
      "[8]\ttraining's l1: 0.0178706\tvalid_1's l1: 0.0190637\n",
      "[9]\ttraining's l1: 0.017504\tvalid_1's l1: 0.018713\n",
      "[10]\ttraining's l1: 0.0171824\tvalid_1's l1: 0.0184065\n",
      "[11]\ttraining's l1: 0.016901\tvalid_1's l1: 0.0181607\n",
      "[12]\ttraining's l1: 0.0166526\tvalid_1's l1: 0.0179149\n",
      "[13]\ttraining's l1: 0.0164342\tvalid_1's l1: 0.0177667\n",
      "[14]\ttraining's l1: 0.0162423\tvalid_1's l1: 0.0175998\n",
      "[15]\ttraining's l1: 0.0160661\tvalid_1's l1: 0.0174561\n",
      "[16]\ttraining's l1: 0.0159085\tvalid_1's l1: 0.0173221\n",
      "[17]\ttraining's l1: 0.0157706\tvalid_1's l1: 0.017199\n",
      "[18]\ttraining's l1: 0.0156493\tvalid_1's l1: 0.0171167\n",
      "[19]\ttraining's l1: 0.0155415\tvalid_1's l1: 0.0170736\n",
      "[20]\ttraining's l1: 0.0154465\tvalid_1's l1: 0.0169754\n",
      "[21]\ttraining's l1: 0.015361\tvalid_1's l1: 0.0169245\n",
      "[22]\ttraining's l1: 0.0152872\tvalid_1's l1: 0.0168497\n",
      "[23]\ttraining's l1: 0.015221\tvalid_1's l1: 0.016816\n",
      "[24]\ttraining's l1: 0.0151643\tvalid_1's l1: 0.0167547\n",
      "[25]\ttraining's l1: 0.0151122\tvalid_1's l1: 0.0167278\n",
      "[26]\ttraining's l1: 0.0150639\tvalid_1's l1: 0.016701\n",
      "[27]\ttraining's l1: 0.0150196\tvalid_1's l1: 0.0166809\n",
      "[28]\ttraining's l1: 0.0149809\tvalid_1's l1: 0.0166466\n",
      "[29]\ttraining's l1: 0.0149433\tvalid_1's l1: 0.0166248\n",
      "[30]\ttraining's l1: 0.0149123\tvalid_1's l1: 0.0166167\n",
      "[31]\ttraining's l1: 0.0148823\tvalid_1's l1: 0.0165928\n",
      "[32]\ttraining's l1: 0.0148579\tvalid_1's l1: 0.0165683\n",
      "[33]\ttraining's l1: 0.0148355\tvalid_1's l1: 0.0165669\n",
      "[34]\ttraining's l1: 0.0148179\tvalid_1's l1: 0.0165523\n",
      "[35]\ttraining's l1: 0.0147993\tvalid_1's l1: 0.0165363\n",
      "[36]\ttraining's l1: 0.0147777\tvalid_1's l1: 0.0165219\n",
      "[37]\ttraining's l1: 0.0147572\tvalid_1's l1: 0.0164899\n",
      "[38]\ttraining's l1: 0.0147391\tvalid_1's l1: 0.0165002\n",
      "[39]\ttraining's l1: 0.014724\tvalid_1's l1: 0.0164981\n",
      "[40]\ttraining's l1: 0.014709\tvalid_1's l1: 0.0164847\n",
      "[41]\ttraining's l1: 0.0146946\tvalid_1's l1: 0.0164777\n",
      "[42]\ttraining's l1: 0.0146818\tvalid_1's l1: 0.0164846\n",
      "[43]\ttraining's l1: 0.0146697\tvalid_1's l1: 0.0165036\n",
      "[44]\ttraining's l1: 0.0146594\tvalid_1's l1: 0.0164738\n",
      "[45]\ttraining's l1: 0.0146485\tvalid_1's l1: 0.0164693\n",
      "[46]\ttraining's l1: 0.0146376\tvalid_1's l1: 0.0164651\n",
      "[47]\ttraining's l1: 0.0146299\tvalid_1's l1: 0.0165184\n",
      "[48]\ttraining's l1: 0.0146242\tvalid_1's l1: 0.0164899\n",
      "[49]\ttraining's l1: 0.0146149\tvalid_1's l1: 0.0164869\n",
      "[50]\ttraining's l1: 0.0146062\tvalid_1's l1: 0.0165113\n",
      "[51]\ttraining's l1: 0.0145975\tvalid_1's l1: 0.0165318\n",
      "[52]\ttraining's l1: 0.0145925\tvalid_1's l1: 0.0165577\n",
      "[53]\ttraining's l1: 0.0145871\tvalid_1's l1: 0.0165396\n",
      "[54]\ttraining's l1: 0.0145814\tvalid_1's l1: 0.016536\n",
      "[55]\ttraining's l1: 0.0145775\tvalid_1's l1: 0.0165332\n",
      "[56]\ttraining's l1: 0.0145716\tvalid_1's l1: 0.0165445\n",
      "[57]\ttraining's l1: 0.0145682\tvalid_1's l1: 0.0165426\n",
      "[58]\ttraining's l1: 0.0145639\tvalid_1's l1: 0.0165434\n",
      "[59]\ttraining's l1: 0.0145591\tvalid_1's l1: 0.0165319\n",
      "[60]\ttraining's l1: 0.0145544\tvalid_1's l1: 0.0165367\n",
      "[61]\ttraining's l1: 0.0145501\tvalid_1's l1: 0.0165379\n",
      "[62]\ttraining's l1: 0.0145468\tvalid_1's l1: 0.0165307\n",
      "[63]\ttraining's l1: 0.0145442\tvalid_1's l1: 0.0165324\n",
      "[64]\ttraining's l1: 0.0145407\tvalid_1's l1: 0.0165364\n",
      "[65]\ttraining's l1: 0.0145385\tvalid_1's l1: 0.016526\n",
      "[66]\ttraining's l1: 0.0145365\tvalid_1's l1: 0.0165282\n",
      "[67]\ttraining's l1: 0.0145344\tvalid_1's l1: 0.0165278\n",
      "[68]\ttraining's l1: 0.0145306\tvalid_1's l1: 0.0165272\n",
      "[69]\ttraining's l1: 0.0145271\tvalid_1's l1: 0.0165231\n",
      "[70]\ttraining's l1: 0.0145258\tvalid_1's l1: 0.0165239\n",
      "[71]\ttraining's l1: 0.0145194\tvalid_1's l1: 0.0165092\n",
      "[72]\ttraining's l1: 0.0145138\tvalid_1's l1: 0.0165086\n",
      "[73]\ttraining's l1: 0.0145075\tvalid_1's l1: 0.0164983\n",
      "[74]\ttraining's l1: 0.014502\tvalid_1's l1: 0.0164959\n",
      "[75]\ttraining's l1: 0.0144987\tvalid_1's l1: 0.0164965\n",
      "[76]\ttraining's l1: 0.0144962\tvalid_1's l1: 0.016503\n",
      "[77]\ttraining's l1: 0.0144915\tvalid_1's l1: 0.0164989\n",
      "[78]\ttraining's l1: 0.014485\tvalid_1's l1: 0.0164966\n",
      "[79]\ttraining's l1: 0.0144804\tvalid_1's l1: 0.016497\n",
      "[80]\ttraining's l1: 0.0144774\tvalid_1's l1: 0.0164952\n",
      "[81]\ttraining's l1: 0.0144742\tvalid_1's l1: 0.016497\n",
      "[82]\ttraining's l1: 0.0144719\tvalid_1's l1: 0.0164936\n",
      "[83]\ttraining's l1: 0.0144682\tvalid_1's l1: 0.0164917\n",
      "[84]\ttraining's l1: 0.014466\tvalid_1's l1: 0.0164936\n",
      "[85]\ttraining's l1: 0.0144601\tvalid_1's l1: 0.0164928\n",
      "[86]\ttraining's l1: 0.0144543\tvalid_1's l1: 0.0164932\n",
      "[87]\ttraining's l1: 0.0144493\tvalid_1's l1: 0.0164934\n",
      "[88]\ttraining's l1: 0.0144441\tvalid_1's l1: 0.0164958\n",
      "[89]\ttraining's l1: 0.0144396\tvalid_1's l1: 0.0164972\n",
      "[90]\ttraining's l1: 0.0144351\tvalid_1's l1: 0.016498\n",
      "[91]\ttraining's l1: 0.0144321\tvalid_1's l1: 0.0164989\n",
      "[92]\ttraining's l1: 0.0144284\tvalid_1's l1: 0.016502\n",
      "[93]\ttraining's l1: 0.0144238\tvalid_1's l1: 0.0165016\n",
      "[94]\ttraining's l1: 0.0144196\tvalid_1's l1: 0.0165044\n",
      "[95]\ttraining's l1: 0.0144158\tvalid_1's l1: 0.0165049\n",
      "[96]\ttraining's l1: 0.0144136\tvalid_1's l1: 0.0165132\n",
      "[97]\ttraining's l1: 0.0144106\tvalid_1's l1: 0.0165142\n",
      "[98]\ttraining's l1: 0.014406\tvalid_1's l1: 0.016512\n",
      "[99]\ttraining's l1: 0.0144016\tvalid_1's l1: 0.0165113\n",
      "[100]\ttraining's l1: 0.0143983\tvalid_1's l1: 0.0165146\n",
      "Preparing final model...\n",
      "[1]\ttraining's l1: 0.0144819\tvalid_1's l1: 0.0146098\n",
      "[2]\ttraining's l1: 0.0137959\tvalid_1's l1: 0.0139229\n",
      "[3]\ttraining's l1: 0.0132002\tvalid_1's l1: 0.0133234\n",
      "[4]\ttraining's l1: 0.0126808\tvalid_1's l1: 0.012803\n",
      "[5]\ttraining's l1: 0.0122254\tvalid_1's l1: 0.0123494\n",
      "[6]\ttraining's l1: 0.011836\tvalid_1's l1: 0.011954\n",
      "[7]\ttraining's l1: 0.0114967\tvalid_1's l1: 0.0116105\n",
      "[8]\ttraining's l1: 0.011203\tvalid_1's l1: 0.0113149\n",
      "[9]\ttraining's l1: 0.0109497\tvalid_1's l1: 0.0110644\n",
      "[10]\ttraining's l1: 0.0107257\tvalid_1's l1: 0.0108368\n",
      "[11]\ttraining's l1: 0.0105352\tvalid_1's l1: 0.0106407\n",
      "[12]\ttraining's l1: 0.0103706\tvalid_1's l1: 0.0104693\n",
      "[13]\ttraining's l1: 0.0102249\tvalid_1's l1: 0.0103198\n",
      "[14]\ttraining's l1: 0.0100981\tvalid_1's l1: 0.0101938\n",
      "[15]\ttraining's l1: 0.00999373\tvalid_1's l1: 0.0100889\n",
      "[16]\ttraining's l1: 0.00989819\tvalid_1's l1: 0.00999865\n",
      "[17]\ttraining's l1: 0.00981614\tvalid_1's l1: 0.00991345\n",
      "[18]\ttraining's l1: 0.00974305\tvalid_1's l1: 0.00984066\n",
      "[19]\ttraining's l1: 0.00968051\tvalid_1's l1: 0.00978154\n",
      "[20]\ttraining's l1: 0.00962492\tvalid_1's l1: 0.00972326\n",
      "[21]\ttraining's l1: 0.00957707\tvalid_1's l1: 0.00968112\n",
      "[22]\ttraining's l1: 0.00953561\tvalid_1's l1: 0.00964691\n",
      "[23]\ttraining's l1: 0.00949929\tvalid_1's l1: 0.00961086\n",
      "[24]\ttraining's l1: 0.00946748\tvalid_1's l1: 0.00957936\n",
      "[25]\ttraining's l1: 0.00943754\tvalid_1's l1: 0.00955274\n",
      "[26]\ttraining's l1: 0.00941296\tvalid_1's l1: 0.00952751\n",
      "[27]\ttraining's l1: 0.00938946\tvalid_1's l1: 0.0095047\n",
      "[28]\ttraining's l1: 0.00937023\tvalid_1's l1: 0.00948648\n",
      "[29]\ttraining's l1: 0.00935028\tvalid_1's l1: 0.00947217\n",
      "[30]\ttraining's l1: 0.00933223\tvalid_1's l1: 0.00945836\n",
      "[31]\ttraining's l1: 0.00931421\tvalid_1's l1: 0.00944642\n",
      "[32]\ttraining's l1: 0.0093006\tvalid_1's l1: 0.00943124\n",
      "[33]\ttraining's l1: 0.00928762\tvalid_1's l1: 0.00941867\n",
      "[34]\ttraining's l1: 0.00927536\tvalid_1's l1: 0.00940843\n",
      "[35]\ttraining's l1: 0.00926466\tvalid_1's l1: 0.00940261\n",
      "[36]\ttraining's l1: 0.00925425\tvalid_1's l1: 0.00939571\n",
      "[37]\ttraining's l1: 0.00924402\tvalid_1's l1: 0.0093858\n",
      "[38]\ttraining's l1: 0.00923776\tvalid_1's l1: 0.00938344\n",
      "[39]\ttraining's l1: 0.00922966\tvalid_1's l1: 0.00937805\n",
      "[40]\ttraining's l1: 0.00922048\tvalid_1's l1: 0.00937375\n",
      "[41]\ttraining's l1: 0.00921446\tvalid_1's l1: 0.00936682\n",
      "[42]\ttraining's l1: 0.00920911\tvalid_1's l1: 0.00936267\n",
      "[43]\ttraining's l1: 0.00920305\tvalid_1's l1: 0.00936315\n",
      "[44]\ttraining's l1: 0.00919679\tvalid_1's l1: 0.00936259\n",
      "[45]\ttraining's l1: 0.00919149\tvalid_1's l1: 0.00936011\n",
      "[46]\ttraining's l1: 0.00918541\tvalid_1's l1: 0.00935569\n",
      "[47]\ttraining's l1: 0.00918068\tvalid_1's l1: 0.00935188\n",
      "[48]\ttraining's l1: 0.00917794\tvalid_1's l1: 0.00934971\n",
      "[49]\ttraining's l1: 0.00917506\tvalid_1's l1: 0.00935064\n",
      "[50]\ttraining's l1: 0.00917331\tvalid_1's l1: 0.00934986\n",
      "[51]\ttraining's l1: 0.00916897\tvalid_1's l1: 0.00934778\n",
      "[52]\ttraining's l1: 0.00916723\tvalid_1's l1: 0.00934917\n",
      "[53]\ttraining's l1: 0.00916206\tvalid_1's l1: 0.00934525\n",
      "[54]\ttraining's l1: 0.00915948\tvalid_1's l1: 0.00934479\n",
      "[55]\ttraining's l1: 0.00915753\tvalid_1's l1: 0.00934593\n",
      "[56]\ttraining's l1: 0.00915479\tvalid_1's l1: 0.00934607\n",
      "[57]\ttraining's l1: 0.00915325\tvalid_1's l1: 0.00934725\n",
      "[58]\ttraining's l1: 0.0091515\tvalid_1's l1: 0.00934667\n",
      "[59]\ttraining's l1: 0.00914889\tvalid_1's l1: 0.00934619\n",
      "[60]\ttraining's l1: 0.00914801\tvalid_1's l1: 0.00934632\n",
      "[61]\ttraining's l1: 0.00914574\tvalid_1's l1: 0.00934561\n",
      "[62]\ttraining's l1: 0.00914469\tvalid_1's l1: 0.00934544\n",
      "[63]\ttraining's l1: 0.00914214\tvalid_1's l1: 0.00934465\n",
      "[64]\ttraining's l1: 0.00914083\tvalid_1's l1: 0.00934344\n",
      "[65]\ttraining's l1: 0.00913927\tvalid_1's l1: 0.00934369\n",
      "[66]\ttraining's l1: 0.00913769\tvalid_1's l1: 0.0093446\n",
      "[67]\ttraining's l1: 0.00913531\tvalid_1's l1: 0.00934446\n",
      "[68]\ttraining's l1: 0.00913437\tvalid_1's l1: 0.00934338\n",
      "[69]\ttraining's l1: 0.00913179\tvalid_1's l1: 0.00934081\n",
      "[70]\ttraining's l1: 0.00912938\tvalid_1's l1: 0.00934006\n",
      "[71]\ttraining's l1: 0.00912787\tvalid_1's l1: 0.00934137\n",
      "[72]\ttraining's l1: 0.00912551\tvalid_1's l1: 0.00934014\n",
      "[73]\ttraining's l1: 0.00912379\tvalid_1's l1: 0.00934163\n",
      "[74]\ttraining's l1: 0.00912312\tvalid_1's l1: 0.00934134\n",
      "[75]\ttraining's l1: 0.00912237\tvalid_1's l1: 0.00934156\n",
      "[76]\ttraining's l1: 0.00912081\tvalid_1's l1: 0.0093412\n",
      "[77]\ttraining's l1: 0.00911942\tvalid_1's l1: 0.00934119\n",
      "[78]\ttraining's l1: 0.0091157\tvalid_1's l1: 0.00934266\n",
      "[79]\ttraining's l1: 0.00911429\tvalid_1's l1: 0.00934354\n",
      "[80]\ttraining's l1: 0.00911283\tvalid_1's l1: 0.00934499\n",
      "[81]\ttraining's l1: 0.00911151\tvalid_1's l1: 0.00934349\n",
      "[82]\ttraining's l1: 0.00911042\tvalid_1's l1: 0.00934326\n",
      "[83]\ttraining's l1: 0.00910941\tvalid_1's l1: 0.00934314\n",
      "[84]\ttraining's l1: 0.00910745\tvalid_1's l1: 0.00934242\n",
      "[85]\ttraining's l1: 0.00910605\tvalid_1's l1: 0.00934214\n",
      "[86]\ttraining's l1: 0.00910564\tvalid_1's l1: 0.0093421\n",
      "[87]\ttraining's l1: 0.00910511\tvalid_1's l1: 0.00934265\n",
      "[88]\ttraining's l1: 0.00910437\tvalid_1's l1: 0.00934299\n",
      "[89]\ttraining's l1: 0.00910335\tvalid_1's l1: 0.00934278\n",
      "[90]\ttraining's l1: 0.00910221\tvalid_1's l1: 0.00934284\n",
      "[91]\ttraining's l1: 0.00910126\tvalid_1's l1: 0.00934293\n",
      "[92]\ttraining's l1: 0.00909974\tvalid_1's l1: 0.00934273\n",
      "[93]\ttraining's l1: 0.00909808\tvalid_1's l1: 0.0093417\n",
      "[94]\ttraining's l1: 0.00909644\tvalid_1's l1: 0.00934195\n",
      "[95]\ttraining's l1: 0.00909559\tvalid_1's l1: 0.00934196\n",
      "[96]\ttraining's l1: 0.00909506\tvalid_1's l1: 0.00934274\n",
      "[97]\ttraining's l1: 0.00909384\tvalid_1's l1: 0.00934301\n",
      "[98]\ttraining's l1: 0.00909221\tvalid_1's l1: 0.00934265\n",
      "[99]\ttraining's l1: 0.00909076\tvalid_1's l1: 0.00934211\n",
      "[100]\ttraining's l1: 0.00909019\tvalid_1's l1: 0.00934039\n"
     ]
    }
   ],
   "source": [
    "lat_bst = train_model(lat_train_df, lat_train_labels, lat_test_df, lat_test_labels, lat_params)\n",
    "lng_bst = train_model(lng_train_df, lng_train_labels, lng_test_df, lng_test_labels, lng_params)"
   ]
  },
  {
   "cell_type": "code",
   "execution_count": 71,
   "metadata": {},
   "outputs": [
    {
     "name": "stdout",
     "output_type": "stream",
     "text": [
      "Lat Model\n",
      "Train R2 Score: 0.4332069112858069\n",
      "Test R2 Score: 0.36606660762470344\n",
      "Train MAE: 0.014398326830194572\n",
      "Test MAE: 0.016514592895563236\n",
      "Lng Model\n",
      "Train R2 Score: 0.5037399820448495\n",
      "Test R2 Score: 0.46574477541796433\n",
      "Train MAE: 0.00909019266339119\n",
      "Test MAE: 0.009340391953006196\n"
     ]
    }
   ],
   "source": [
    "def print_statistics(bst, train_df, train_labels, test_df, test_labels):\n",
    "    \"\"\"Prints regression statistics\"\"\"\n",
    "    train_predictions = bst.predict(train_df)\n",
    "    test_predictions = bst.predict(test_df)\n",
    "    print(f\"Train R2 Score: {r2_score(train_labels, train_predictions)}\")\n",
    "    print(f\"Test R2 Score: {r2_score(test_labels, test_predictions)}\")\n",
    "    print(f\"Train MAE: {mean_absolute_error(train_labels, train_predictions)}\")\n",
    "    print(f\"Test MAE: {mean_absolute_error(test_labels, test_predictions)}\")\n",
    "\n",
    "print(\"Lat Model\")\n",
    "print_statistics(lat_bst, lat_train_df, lat_train_labels, lat_test_df, lat_test_labels)\n",
    "print(\"Lng Model\")\n",
    "print_statistics(lng_bst, lng_train_df, lng_train_labels, lng_test_df, lng_test_labels)"
   ]
  },
  {
   "cell_type": "code",
   "execution_count": 72,
   "metadata": {},
   "outputs": [
    {
     "data": {
      "image/png": "[encoded data removed]",
      "text/plain": [
       "<Figure size 576x338.4 with 2 Axes>"
      ]
     },
     "metadata": {
      "needs_background": "light"
     },
     "output_type": "display_data"
    }
   ],
   "source": [
    "sampled_df = lat_train_df.sample(10000)\n",
    "explainer = shap.TreeExplainer(lat_bst)\n",
    "shap_values = explainer.shap_values(sampled_df)\n",
    "shap.summary_plot(shap_values, sampled_df)"
   ]
  },
  {
   "cell_type": "code",
   "execution_count": 73,
   "metadata": {},
   "outputs": [
    {
     "data": {
      "image/png": "[encoded data removed]",
      "text/plain": [
       "<Figure size 576x338.4 with 2 Axes>"
      ]
     },
     "metadata": {
      "needs_background": "light"
     },
     "output_type": "display_data"
    }
   ],
   "source": [
    "sampled_df = lng_train_df.sample(10000)\n",
    "explainer = shap.TreeExplainer(lng_bst)\n",
    "shap_values = explainer.shap_values(sampled_df)\n",
    "shap.summary_plot(shap_values, sampled_df)"
   ]
  },
  {
   "cell_type": "markdown",
   "metadata": {},
   "source": [
    "## Bonus: Clustering"
   ]
  },
  {
   "cell_type": "code",
   "execution_count": 74,
   "metadata": {},
   "outputs": [],
   "source": [
    "sk_combined_pred_df = TrajDataFrame(combined_pred_df, timestamp=True)"
   ]
  },
  {
   "cell_type": "code",
   "execution_count": 75,
   "metadata": {},
   "outputs": [],
   "source": [
    "cluster_df = clustering.cluster(\n",
    "    sk_combined_pred_df[[\"lat\", \"lng\", \"datetime\", \"uid\"]], cluster_radius_km=0.5, min_samples=1)"
   ]
  },
  {
   "cell_type": "code",
   "execution_count": 76,
   "metadata": {},
   "outputs": [],
   "source": [
    "# skmob dataframes are buggy with group bys\n",
    "cluster_df = pd.DataFrame(cluster_df).groupby(\"cluster\").agg(\n",
    "    number_of_trips=pd.NamedAgg(column=\"lat\", aggfunc=\"count\"),\n",
    "    median_lat=pd.NamedAgg(column=\"lat\", aggfunc=\"median\"),\n",
    "    median_lng=pd.NamedAgg(column=\"lng\", aggfunc=\"median\"))"
   ]
  },
  {
   "cell_type": "code",
   "execution_count": 77,
   "metadata": {},
   "outputs": [
    {
     "data": {
      "text/html": [
       "<div>\n",
       "<style scoped>\n",
       "    .dataframe tbody tr th:only-of-type {\n",
       "        vertical-align: middle;\n",
       "    }\n",
       "\n",
       "    .dataframe tbody tr th {\n",
       "        vertical-align: top;\n",
       "    }\n",
       "\n",
       "    .dataframe thead th {\n",
       "        text-align: right;\n",
       "    }\n",
       "</style>\n",
       "<table border=\"1\" class=\"dataframe\">\n",
       "  <thead>\n",
       "    <tr style=\"text-align: right;\">\n",
       "      <th></th>\n",
       "      <th>number_of_trips</th>\n",
       "      <th>median_lat</th>\n",
       "      <th>median_lng</th>\n",
       "    </tr>\n",
       "    <tr>\n",
       "      <th>cluster</th>\n",
       "      <th></th>\n",
       "      <th></th>\n",
       "      <th></th>\n",
       "    </tr>\n",
       "  </thead>\n",
       "  <tbody>\n",
       "    <tr>\n",
       "      <th>0</th>\n",
       "      <td>385535</td>\n",
       "      <td>37.787150</td>\n",
       "      <td>-122.415010</td>\n",
       "    </tr>\n",
       "    <tr>\n",
       "      <th>1</th>\n",
       "      <td>18252</td>\n",
       "      <td>37.616340</td>\n",
       "      <td>-122.386320</td>\n",
       "    </tr>\n",
       "    <tr>\n",
       "      <th>2</th>\n",
       "      <td>5995</td>\n",
       "      <td>37.764560</td>\n",
       "      <td>-122.452890</td>\n",
       "    </tr>\n",
       "    <tr>\n",
       "      <th>3</th>\n",
       "      <td>3782</td>\n",
       "      <td>37.762630</td>\n",
       "      <td>-122.449450</td>\n",
       "    </tr>\n",
       "    <tr>\n",
       "      <th>4</th>\n",
       "      <td>2876</td>\n",
       "      <td>37.760655</td>\n",
       "      <td>-122.441290</td>\n",
       "    </tr>\n",
       "    <tr>\n",
       "      <th>5</th>\n",
       "      <td>2316</td>\n",
       "      <td>37.753660</td>\n",
       "      <td>-122.434015</td>\n",
       "    </tr>\n",
       "    <tr>\n",
       "      <th>6</th>\n",
       "      <td>1960</td>\n",
       "      <td>37.753610</td>\n",
       "      <td>-122.435815</td>\n",
       "    </tr>\n",
       "    <tr>\n",
       "      <th>7</th>\n",
       "      <td>1723</td>\n",
       "      <td>37.749620</td>\n",
       "      <td>-122.442660</td>\n",
       "    </tr>\n",
       "    <tr>\n",
       "      <th>8</th>\n",
       "      <td>1539</td>\n",
       "      <td>37.747740</td>\n",
       "      <td>-122.437630</td>\n",
       "    </tr>\n",
       "    <tr>\n",
       "      <th>9</th>\n",
       "      <td>1406</td>\n",
       "      <td>37.746740</td>\n",
       "      <td>-122.440350</td>\n",
       "    </tr>\n",
       "  </tbody>\n",
       "</table>\n",
       "</div>"
      ],
      "text/plain": [
       "         number_of_trips  median_lat  median_lng\n",
       "cluster                                         \n",
       "0                 385535   37.787150 -122.415010\n",
       "1                  18252   37.616340 -122.386320\n",
       "2                   5995   37.764560 -122.452890\n",
       "3                   3782   37.762630 -122.449450\n",
       "4                   2876   37.760655 -122.441290\n",
       "5                   2316   37.753660 -122.434015\n",
       "6                   1960   37.753610 -122.435815\n",
       "7                   1723   37.749620 -122.442660\n",
       "8                   1539   37.747740 -122.437630\n",
       "9                   1406   37.746740 -122.440350"
      ]
     },
     "execution_count": 77,
     "metadata": {},
     "output_type": "execute_result"
    }
   ],
   "source": [
    "# top 10 drop off locations\n",
    "cluster_df.nlargest(10, \"number_of_trips\")"
   ]
  },
  {
   "cell_type": "code",
   "execution_count": 78,
   "metadata": {},
   "outputs": [],
   "source": [
    "# top 10 pick up locations\n",
    "sk_combined_pred_df = TrajDataFrame(\n",
    "    combined_pred_df[[\"next_lat\", \"next_lng\", \"datetime\", \"uid\"]], latitude=\"next_lat\", longitude=\"next_lng\", \n",
    "    timestamp=True)"
   ]
  },
  {
   "cell_type": "code",
   "execution_count": 79,
   "metadata": {},
   "outputs": [],
   "source": [
    "cluster_df = clustering.cluster(\n",
    "    sk_combined_pred_df[[\"lat\", \"lng\", \"datetime\", \"uid\"]], cluster_radius_km=0.5, min_samples=1)"
   ]
  },
  {
   "cell_type": "code",
   "execution_count": 80,
   "metadata": {},
   "outputs": [
    {
     "data": {
      "text/html": [
       "<div>\n",
       "<style scoped>\n",
       "    .dataframe tbody tr th:only-of-type {\n",
       "        vertical-align: middle;\n",
       "    }\n",
       "\n",
       "    .dataframe tbody tr th {\n",
       "        vertical-align: top;\n",
       "    }\n",
       "\n",
       "    .dataframe thead th {\n",
       "        text-align: right;\n",
       "    }\n",
       "</style>\n",
       "<table border=\"1\" class=\"dataframe\">\n",
       "  <thead>\n",
       "    <tr style=\"text-align: right;\">\n",
       "      <th></th>\n",
       "      <th>number_of_trips</th>\n",
       "      <th>median_lat</th>\n",
       "      <th>median_lng</th>\n",
       "    </tr>\n",
       "    <tr>\n",
       "      <th>cluster</th>\n",
       "      <th></th>\n",
       "      <th></th>\n",
       "      <th></th>\n",
       "    </tr>\n",
       "  </thead>\n",
       "  <tbody>\n",
       "    <tr>\n",
       "      <th>0</th>\n",
       "      <td>397686</td>\n",
       "      <td>37.78736</td>\n",
       "      <td>-122.414170</td>\n",
       "    </tr>\n",
       "    <tr>\n",
       "      <th>1</th>\n",
       "      <td>21988</td>\n",
       "      <td>37.61614</td>\n",
       "      <td>-122.390070</td>\n",
       "    </tr>\n",
       "    <tr>\n",
       "      <th>2</th>\n",
       "      <td>6819</td>\n",
       "      <td>37.76444</td>\n",
       "      <td>-122.436810</td>\n",
       "    </tr>\n",
       "    <tr>\n",
       "      <th>3</th>\n",
       "      <td>4059</td>\n",
       "      <td>37.76270</td>\n",
       "      <td>-122.433780</td>\n",
       "    </tr>\n",
       "    <tr>\n",
       "      <th>4</th>\n",
       "      <td>2907</td>\n",
       "      <td>37.76086</td>\n",
       "      <td>-122.435920</td>\n",
       "    </tr>\n",
       "    <tr>\n",
       "      <th>5</th>\n",
       "      <td>2309</td>\n",
       "      <td>37.75799</td>\n",
       "      <td>-122.434070</td>\n",
       "    </tr>\n",
       "    <tr>\n",
       "      <th>6</th>\n",
       "      <td>1872</td>\n",
       "      <td>37.75518</td>\n",
       "      <td>-122.434955</td>\n",
       "    </tr>\n",
       "    <tr>\n",
       "      <th>7</th>\n",
       "      <td>1596</td>\n",
       "      <td>37.75125</td>\n",
       "      <td>-122.434000</td>\n",
       "    </tr>\n",
       "    <tr>\n",
       "      <th>8</th>\n",
       "      <td>1412</td>\n",
       "      <td>37.75313</td>\n",
       "      <td>-122.436585</td>\n",
       "    </tr>\n",
       "    <tr>\n",
       "      <th>9</th>\n",
       "      <td>1251</td>\n",
       "      <td>37.75117</td>\n",
       "      <td>-122.435120</td>\n",
       "    </tr>\n",
       "  </tbody>\n",
       "</table>\n",
       "</div>"
      ],
      "text/plain": [
       "         number_of_trips  median_lat  median_lng\n",
       "cluster                                         \n",
       "0                 397686    37.78736 -122.414170\n",
       "1                  21988    37.61614 -122.390070\n",
       "2                   6819    37.76444 -122.436810\n",
       "3                   4059    37.76270 -122.433780\n",
       "4                   2907    37.76086 -122.435920\n",
       "5                   2309    37.75799 -122.434070\n",
       "6                   1872    37.75518 -122.434955\n",
       "7                   1596    37.75125 -122.434000\n",
       "8                   1412    37.75313 -122.436585\n",
       "9                   1251    37.75117 -122.435120"
      ]
     },
     "execution_count": 80,
     "metadata": {},
     "output_type": "execute_result"
    }
   ],
   "source": [
    "# skmob dataframes are buggy with group bys\n",
    "cluster_df = pd.DataFrame(cluster_df).groupby(\"cluster\").agg(\n",
    "    number_of_trips=pd.NamedAgg(column=\"lat\", aggfunc=\"count\"),\n",
    "    median_lat=pd.NamedAgg(column=\"lat\", aggfunc=\"median\"),\n",
    "    median_lng=pd.NamedAgg(column=\"lng\", aggfunc=\"median\"))\n",
    "# top 10 pick-up locations\n",
    "cluster_df.nlargest(10, \"number_of_trips\")"
   ]
  },
  {
   "cell_type": "markdown",
   "metadata": {},
   "source": [
    "You can plot the points using: https://mobisoftinfotech.com/tools/plot-multiple-points-on-map/\n",
    "\n",
    "Red circle for drop-offs.\n",
    "\n",
    "Yellow square for pick-ups.\n",
    "```\n",
    "37.78715,-122.41501,red,circle,386K\n",
    "37.61634,-122.38632,red,circle,18.3K\n",
    "37.76456,-122.45289,red,circle,6K\n",
    "37.76263,-122.44945,red,circle,3.78K\n",
    "37.760655,-122.44129,red,circle,2.88K\n",
    "37.75366,-122.434015,red,circle,2.32K\n",
    "37.75361,-122.43581499999999,red,circle,1.96K\n",
    "37.74962,-122.44266,red,circle,1.72K\n",
    "37.74774,-122.43763,red,circle,1.54K\n",
    "37.74674,-122.44035,red,circle,1.41K\n",
    "37.78736,-122.41417,yellow,square,398K\n",
    "37.61614,-122.39007,yellow,square,22K\n",
    "37.76444,-122.43681,yellow,square,6.82K\n",
    "37.7627,-122.43378,yellow,square,4.06K\n",
    "37.76086,-122.43592,yellow,square,2.91K\n",
    "37.75799,-122.43407,yellow,square,2.31K\n",
    "37.755179999999996,-122.434955,yellow,square,1.87K\n",
    "37.75125,-122.434,yellow,square,1.6K\n",
    "37.75313,-122.43658500000001,yellow,square,1.41K\n",
    "37.75117,-122.43512,yellow,square,1.25K\n",
    "```\n"
   ]
  },
  {
   "cell_type": "markdown",
   "metadata": {},
   "source": [
    "### Unused codes"
   ]
  },
  {
   "cell_type": "code",
   "execution_count": 81,
   "metadata": {},
   "outputs": [],
   "source": [
    "# using skmob, for sanity checking \n",
    "# sk_combined_df = skmob.TrajDataFrame(combined_df, timestamp=True)\n",
    "# due to large number of samples this code block takes a lot of time\n",
    "# the idea was to remove trajectories with invalid gps data where\n",
    "# the speed is over 300km/h \n",
    "\n",
    "# removal of trajectories with incorrect data\n",
    "# idle_df = skmob.preprocessing.filtering.filter(idle_df, max_speed_kmh=300)\n",
    "# detection.stay_locations(df, stop_radius_factor=2.0, minutes_for_a_stop=20.0, spatial_radius_km=1.0, leaving_time=True)\n",
    "# temp_df = clustering.cluster(df, cluster_radius_km=0.1, min_samples=1)\n",
    "# temp_df.cluster.value_counts()\n",
    "# kms covered by taxi cabs roaming without passengers by taxi id \n",
    "# for this analysis, I used skmob functions instead of my implementation that calculates distance\n",
    "# distances_df = distance_straight_line(sk_combined_df[sk_combined_df[\"occupancy\"] == 0])\n",
    "# getting number of days active for each taxi\n",
    "# this could have been done better by checking if the taxi is working in day X\n",
    "# right now, it only looks into max and mins\n",
    "# distances_df[\"num_days_active\"] = combined_df.groupby(\"uid\").agg(\n",
    "#     num_days_active=pd.NamedAgg(column=\"datetime\", aggfunc=day_range))[\"num_days_active\"].values\n",
    "# distances_df[\"distance_normalized_per_day\"] = distances_df[\"distance_straight_line\"] / distances_df[\"num_days_active\"]\n",
    "# distances_df = distances_df.set_index(\"uid\")\n",
    "# for i in cluster_df.nlargest(10, \"number_of_trips\").apply(lambda x: \",\".join([str(x[\"median_lat\"]), \n",
    "# str(x[\"median_lng\"]), \"yellow\", \"square\", str(x[\"number_of_trips\"])]), axis=1).values:\n",
    "#     print(i)\n",
    "# import dataframe_image as dfi\n",
    "# # pd.DataFrame(distances_df.median().apply(human_readable_format), columns=[\"median\"]\n",
    "# dfi.export(combined_pred_df.head(), \"new_data_model.png\")"
   ]
  }
 ],
 "metadata": {
  "kernelspec": {
   "display_name": "Python 3.9.12 ('base')",
   "language": "python",
   "name": "python3"
  },
  "language_info": {
   "codemirror_mode": {
    "name": "ipython",
    "version": 3
   },
   "file_extension": ".py",
   "mimetype": "text/x-python",
   "name": "python",
   "nbconvert_exporter": "python",
   "pygments_lexer": "ipython3",
   "version": "3.9.12"
  },
  "orig_nbformat": 4,
  "vscode": {
   "interpreter": {
    "hash": "ad2bdc8ecc057115af97d19610ffacc2b4e99fae6737bb82f5d7fb13d2f2c186"
   }
  }
 },
 "nbformat": 4,
 "nbformat_minor": 2
}
